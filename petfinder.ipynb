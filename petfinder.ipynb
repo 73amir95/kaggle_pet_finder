{
 "cells": [
  {
   "cell_type": "markdown",
   "id": "bbf13d1c",
   "metadata": {
    "papermill": {
     "duration": 0.010753,
     "end_time": "2025-07-26T17:20:50.242922",
     "exception": false,
     "start_time": "2025-07-26T17:20:50.232169",
     "status": "completed"
    },
    "tags": []
   },
   "source": [
    "# Dataset Description\n",
    "\n",
    "In this competition you will predict the speed at which a pet is adopted, based on the pet’s listing on PetFinder. Sometimes a profile represents a group of pets. In this case, the speed of adoption is determined by the speed at which all of the pets are adopted. The data included text, tabular, and image data. See below for details.\n",
    "This is a Kernels-only competition. At the end of the competition, test data will be replaced in their entirety with new data of approximately the same size, and your kernels will be rerun on the new data. \n",
    "\n",
    "## File descriptions\n",
    "\n",
    "\n",
    "    * train.csv - Tabular/text data for the training set\n",
    "    * test.csv - Tabular/text data for the test set\n",
    "    * sample_submission.csv - A sample submission file in the correct format\n",
    "    * breed_labels.csv - Contains Type, and BreedName for each BreedID. Type 1 is dog, 2 is cat.\n",
    "    * color_labels.csv - Contains ColorName for each ColorID\n",
    "    * state_labels.csv - Contains StateName for each StateID\n",
    "\n",
    "\n",
    "## Data Fields\n",
    "\n",
    "\n",
    "    * PetID - Unique hash ID of pet profile\n",
    "    * AdoptionSpeed - Categorical speed of adoption. Lower is faster. This is the value to predict. See below section for more info.\n",
    "    * Type - Type of animal (1 = Dog, 2 = Cat)\n",
    "    * Name - Name of pet (Empty if not named)\n",
    "    * Age - Age of pet when listed, in months\n",
    "    * Breed1 - Primary breed of pet (Refer to BreedLabels dictionary)\n",
    "    * Breed2 - Secondary breed of pet, if pet is of mixed breed (Refer to BreedLabels dictionary)\n",
    "    * Gender - Gender of pet (1 = Male, 2 = Female, 3 = Mixed, if profile represents group of pets)\n",
    "    * Color1 - Color 1 of pet (Refer to ColorLabels dictionary)\n",
    "    * Color2 - Color 2 of pet (Refer to ColorLabels dictionary)\n",
    "    * Color3 - Color 3 of pet (Refer to ColorLabels dictionary)\n",
    "    * MaturitySize - Size at maturity (1 = Small, 2 = Medium, 3 = Large, 4 = Extra Large, 0 = Not Specified)\n",
    "    * FurLength - Fur length (1 = Short, 2 = Medium, 3 = Long, 0 = Not Specified)\n",
    "    * Vaccinated - Pet has been vaccinated (1 = Yes, 2 = No, 3 = Not Sure)\n",
    "    * Dewormed - Pet has been dewormed (1 = Yes, 2 = No, 3 = Not Sure)\n",
    "    * Sterilized - Pet has been spayed / neutered (1 = Yes, 2 = No, 3 = Not Sure)\n",
    "    * Health - Health Condition (1 = Healthy, 2 = Minor Injury, 3 = Serious Injury, 0 = Not Specified)\n",
    "    * Quantity - Number of pets represented in profile\n",
    "    * Fee - Adoption fee (0 = Free)\n",
    "    * State - State location in Malaysia (Refer to StateLabels dictionary)\n",
    "    * RescuerID - Unique hash ID of rescuer\n",
    "    * VideoAmt - Total uploaded videos for this pet\n",
    "    * PhotoAmt - Total uploaded photos for this pet\n",
    "    * Description - Profile write-up for this pet. The primary language used is English, with some in Malay or Chinese.\n",
    "\n",
    "\n",
    "## AdoptionSpeed\n",
    "\n",
    "Contestants are required to predict this value. The value is determined by how quickly, if at all, a pet is adopted. The values are determined in the following way:\n",
    "0 - Pet was adopted on the same day as it was listed.\n",
    "1 - Pet was adopted between 1 and 7 days (1st week) after being listed.\n",
    "2 - Pet was adopted between 8 and 30 days (1st month) after being listed.\n",
    "3 - Pet was adopted between 31 and 90 days (2nd & 3rd month) after being listed.\n",
    "4 - No adoption after 100 days of being listed. (There are no pets in this dataset that waited between 90 and 100 days).\n",
    "\n",
    "## Images\n",
    "\n",
    "For pets that have photos, they will be named in the format of PetID-ImageNumber.jpg. Image 1 is the profile (default) photo set for the pet. For privacy purposes, faces, phone numbers and emails have been masked.\n",
    "\n",
    "## Image Metadata\n",
    "\n",
    "We have run the images through Google's Vision API, providing analysis on Face Annotation, Label Annotation, Text Annotation and Image Properties. You may optionally utilize this supplementary information for your image analysis.\n",
    "\n",
    "File name format is PetID-ImageNumber.json.\n",
    "\n",
    "Some properties will not exist in JSON file if not present, i.e. Face Annotation. Text Annotation has been simplified to just 1 entry of the entire text description (instead of the detailed JSON result broken down by individual characters and words). Phone numbers and emails are already anonymized in Text Annotation.\n",
    "\n",
    "Google Vision API reference:\n",
    "https://cloud.google.com/vision/docs/reference/rest/v1/images/annotate\n",
    "\n",
    "## Sentiment Data\n",
    "\n",
    "We have run each pet profile's description through Google's Natural Language API, providing analysis on sentiment and key entities. You may optionally utilize this supplementary information for your pet description analysis. There are some descriptions that the API could not analyze. As such, there are fewer sentiment files than there are rows in the dataset.\n",
    "\n",
    "File name format is PetID.json.\n",
    "\n",
    "Google Natural Language API reference:\n",
    "https://cloud.google.com/natural-language/docs/basics\n",
    "\n",
    "## Imports"
   ]
  },
  {
   "cell_type": "code",
   "execution_count": 1,
   "id": "6c25875c",
   "metadata": {
    "execution": {
     "iopub.execute_input": "2025-07-26T17:20:50.263394Z",
     "iopub.status.busy": "2025-07-26T17:20:50.263101Z",
     "iopub.status.idle": "2025-07-26T17:21:06.241094Z",
     "shell.execute_reply": "2025-07-26T17:21:06.240485Z"
    },
    "papermill": {
     "duration": 15.990246,
     "end_time": "2025-07-26T17:21:06.242588",
     "exception": false,
     "start_time": "2025-07-26T17:20:50.252342",
     "status": "completed"
    },
    "tags": []
   },
   "outputs": [
    {
     "name": "stderr",
     "output_type": "stream",
     "text": [
      "2025-07-26 17:20:55.260532: E external/local_xla/xla/stream_executor/cuda/cuda_fft.cc:477] Unable to register cuFFT factory: Attempting to register factory for plugin cuFFT when one has already been registered\n",
      "WARNING: All log messages before absl::InitializeLog() is called are written to STDERR\n",
      "E0000 00:00:1753550455.425409      19 cuda_dnn.cc:8310] Unable to register cuDNN factory: Attempting to register factory for plugin cuDNN when one has already been registered\n",
      "E0000 00:00:1753550455.473969      19 cuda_blas.cc:1418] Unable to register cuBLAS factory: Attempting to register factory for plugin cuBLAS when one has already been registered\n"
     ]
    }
   ],
   "source": [
    "import os\n",
    "import json\n",
    "from tqdm.notebook import tqdm\n",
    "from glob import glob\n",
    "from collections import defaultdict\n",
    "from pathlib import Path\n",
    "import pandas as pd\n",
    "import numpy as np\n",
    "import matplotlib.pyplot as plt\n",
    "import seaborn as sns\n",
    "import warnings \n",
    "warnings.filterwarnings('ignore')\n",
    "from sklearn.model_selection import train_test_split\n",
    "from sklearn.preprocessing import StandardScaler\n",
    "from sklearn.ensemble import RandomForestClassifier\n",
    "from sklearn.tree import DecisionTreeClassifier\n",
    "from xgboost import XGBClassifier\n",
    "from sklearn.metrics import confusion_matrix, classification_report\n",
    "import tensorflow as rf\n",
    "from tensorflow.keras.models import Sequential\n",
    "from tensorflow.keras.layers import Dense, Dropout, BatchNormalization\n",
    "from tensorflow.keras.optimizers import Adam\n",
    "from tensorflow.keras.callbacks import EarlyStopping\n",
    "from tensorflow.keras.preprocessing import image\n",
    "from tensorflow.keras.applications import ResNet50\n",
    "from tensorflow.keras.applications.resnet50 import preprocess_input\n",
    "from concurrent.futures import ThreadPoolExecutor\n",
    "from sklearn.utils.class_weight import compute_class_weight\n",
    "from sklearn.metrics import cohen_kappa_score\n",
    "%matplotlib inline"
   ]
  },
  {
   "cell_type": "markdown",
   "id": "688ec355",
   "metadata": {
    "papermill": {
     "duration": 0.009251,
     "end_time": "2025-07-26T17:21:06.261741",
     "exception": false,
     "start_time": "2025-07-26T17:21:06.252490",
     "status": "completed"
    },
    "tags": []
   },
   "source": [
    "## Get the Train Data"
   ]
  },
  {
   "cell_type": "code",
   "execution_count": 2,
   "id": "27084616",
   "metadata": {
    "execution": {
     "iopub.execute_input": "2025-07-26T17:21:06.281935Z",
     "iopub.status.busy": "2025-07-26T17:21:06.281414Z",
     "iopub.status.idle": "2025-07-26T17:21:06.544925Z",
     "shell.execute_reply": "2025-07-26T17:21:06.543998Z"
    },
    "papermill": {
     "duration": 0.275231,
     "end_time": "2025-07-26T17:21:06.546463",
     "exception": false,
     "start_time": "2025-07-26T17:21:06.271232",
     "status": "completed"
    },
    "tags": []
   },
   "outputs": [],
   "source": [
    "train = pd.read_csv('/kaggle/input/petfinder-adoption-prediction/train/train.csv')\n",
    "test = pd.read_csv('/kaggle/input/petfinder-adoption-prediction/test/test.csv')"
   ]
  },
  {
   "cell_type": "code",
   "execution_count": 3,
   "id": "20ef4211",
   "metadata": {
    "execution": {
     "iopub.execute_input": "2025-07-26T17:21:06.575778Z",
     "iopub.status.busy": "2025-07-26T17:21:06.575161Z",
     "iopub.status.idle": "2025-07-26T17:21:06.586889Z",
     "shell.execute_reply": "2025-07-26T17:21:06.586237Z"
    },
    "papermill": {
     "duration": 0.023826,
     "end_time": "2025-07-26T17:21:06.588119",
     "exception": false,
     "start_time": "2025-07-26T17:21:06.564293",
     "status": "completed"
    },
    "tags": []
   },
   "outputs": [],
   "source": [
    "state_labels = pd.read_csv('/kaggle/input/petfinder-adoption-prediction/state_labels.csv')"
   ]
  },
  {
   "cell_type": "code",
   "execution_count": 4,
   "id": "b1f9a808",
   "metadata": {
    "execution": {
     "iopub.execute_input": "2025-07-26T17:21:06.609656Z",
     "iopub.status.busy": "2025-07-26T17:21:06.609151Z",
     "iopub.status.idle": "2025-07-26T17:21:06.618757Z",
     "shell.execute_reply": "2025-07-26T17:21:06.618123Z"
    },
    "papermill": {
     "duration": 0.021498,
     "end_time": "2025-07-26T17:21:06.619931",
     "exception": false,
     "start_time": "2025-07-26T17:21:06.598433",
     "status": "completed"
    },
    "tags": []
   },
   "outputs": [
    {
     "data": {
      "text/plain": [
       "0    41326\n",
       "1    41401\n",
       "2    41326\n",
       "3    41401\n",
       "4    41326\n",
       "Name: State, dtype: int64"
      ]
     },
     "execution_count": 4,
     "metadata": {},
     "output_type": "execute_result"
    }
   ],
   "source": [
    "train['State'].head()"
   ]
  },
  {
   "cell_type": "code",
   "execution_count": 5,
   "id": "8e141e9e",
   "metadata": {
    "execution": {
     "iopub.execute_input": "2025-07-26T17:21:06.640200Z",
     "iopub.status.busy": "2025-07-26T17:21:06.639542Z",
     "iopub.status.idle": "2025-07-26T17:21:06.655194Z",
     "shell.execute_reply": "2025-07-26T17:21:06.654559Z"
    },
    "papermill": {
     "duration": 0.026656,
     "end_time": "2025-07-26T17:21:06.656192",
     "exception": false,
     "start_time": "2025-07-26T17:21:06.629536",
     "status": "completed"
    },
    "tags": []
   },
   "outputs": [
    {
     "data": {
      "text/html": [
       "<div>\n",
       "<style scoped>\n",
       "    .dataframe tbody tr th:only-of-type {\n",
       "        vertical-align: middle;\n",
       "    }\n",
       "\n",
       "    .dataframe tbody tr th {\n",
       "        vertical-align: top;\n",
       "    }\n",
       "\n",
       "    .dataframe thead th {\n",
       "        text-align: right;\n",
       "    }\n",
       "</style>\n",
       "<table border=\"1\" class=\"dataframe\">\n",
       "  <thead>\n",
       "    <tr style=\"text-align: right;\">\n",
       "      <th></th>\n",
       "      <th>StateID</th>\n",
       "      <th>StateName</th>\n",
       "    </tr>\n",
       "  </thead>\n",
       "  <tbody>\n",
       "    <tr>\n",
       "      <th>0</th>\n",
       "      <td>41336</td>\n",
       "      <td>Johor</td>\n",
       "    </tr>\n",
       "    <tr>\n",
       "      <th>1</th>\n",
       "      <td>41325</td>\n",
       "      <td>Kedah</td>\n",
       "    </tr>\n",
       "    <tr>\n",
       "      <th>2</th>\n",
       "      <td>41367</td>\n",
       "      <td>Kelantan</td>\n",
       "    </tr>\n",
       "    <tr>\n",
       "      <th>3</th>\n",
       "      <td>41401</td>\n",
       "      <td>Kuala Lumpur</td>\n",
       "    </tr>\n",
       "    <tr>\n",
       "      <th>4</th>\n",
       "      <td>41415</td>\n",
       "      <td>Labuan</td>\n",
       "    </tr>\n",
       "  </tbody>\n",
       "</table>\n",
       "</div>"
      ],
      "text/plain": [
       "   StateID     StateName\n",
       "0    41336         Johor\n",
       "1    41325         Kedah\n",
       "2    41367      Kelantan\n",
       "3    41401  Kuala Lumpur\n",
       "4    41415        Labuan"
      ]
     },
     "execution_count": 5,
     "metadata": {},
     "output_type": "execute_result"
    }
   ],
   "source": [
    "state_labels.head()"
   ]
  },
  {
   "cell_type": "code",
   "execution_count": 6,
   "id": "8ed618cf",
   "metadata": {
    "execution": {
     "iopub.execute_input": "2025-07-26T17:21:06.676967Z",
     "iopub.status.busy": "2025-07-26T17:21:06.676267Z",
     "iopub.status.idle": "2025-07-26T17:21:06.698097Z",
     "shell.execute_reply": "2025-07-26T17:21:06.697467Z"
    },
    "papermill": {
     "duration": 0.033219,
     "end_time": "2025-07-26T17:21:06.699317",
     "exception": false,
     "start_time": "2025-07-26T17:21:06.666098",
     "status": "completed"
    },
    "tags": []
   },
   "outputs": [],
   "source": [
    "train = train.merge(state_labels, left_on='State', right_on='StateID', how='left')\n",
    "test = test.merge(state_labels, left_on='State', right_on='StateID', how='left')"
   ]
  },
  {
   "cell_type": "code",
   "execution_count": 7,
   "id": "bd3077f2",
   "metadata": {
    "execution": {
     "iopub.execute_input": "2025-07-26T17:21:06.719922Z",
     "iopub.status.busy": "2025-07-26T17:21:06.719655Z",
     "iopub.status.idle": "2025-07-26T17:21:06.730304Z",
     "shell.execute_reply": "2025-07-26T17:21:06.729543Z"
    },
    "papermill": {
     "duration": 0.022396,
     "end_time": "2025-07-26T17:21:06.731602",
     "exception": false,
     "start_time": "2025-07-26T17:21:06.709206",
     "status": "completed"
    },
    "tags": []
   },
   "outputs": [
    {
     "data": {
      "text/html": [
       "<div>\n",
       "<style scoped>\n",
       "    .dataframe tbody tr th:only-of-type {\n",
       "        vertical-align: middle;\n",
       "    }\n",
       "\n",
       "    .dataframe tbody tr th {\n",
       "        vertical-align: top;\n",
       "    }\n",
       "\n",
       "    .dataframe thead th {\n",
       "        text-align: right;\n",
       "    }\n",
       "</style>\n",
       "<table border=\"1\" class=\"dataframe\">\n",
       "  <thead>\n",
       "    <tr style=\"text-align: right;\">\n",
       "      <th></th>\n",
       "      <th>State</th>\n",
       "      <th>StateID</th>\n",
       "      <th>StateName</th>\n",
       "    </tr>\n",
       "  </thead>\n",
       "  <tbody>\n",
       "    <tr>\n",
       "      <th>0</th>\n",
       "      <td>41326</td>\n",
       "      <td>41326</td>\n",
       "      <td>Selangor</td>\n",
       "    </tr>\n",
       "    <tr>\n",
       "      <th>1</th>\n",
       "      <td>41401</td>\n",
       "      <td>41401</td>\n",
       "      <td>Kuala Lumpur</td>\n",
       "    </tr>\n",
       "    <tr>\n",
       "      <th>2</th>\n",
       "      <td>41326</td>\n",
       "      <td>41326</td>\n",
       "      <td>Selangor</td>\n",
       "    </tr>\n",
       "    <tr>\n",
       "      <th>3</th>\n",
       "      <td>41401</td>\n",
       "      <td>41401</td>\n",
       "      <td>Kuala Lumpur</td>\n",
       "    </tr>\n",
       "    <tr>\n",
       "      <th>4</th>\n",
       "      <td>41326</td>\n",
       "      <td>41326</td>\n",
       "      <td>Selangor</td>\n",
       "    </tr>\n",
       "  </tbody>\n",
       "</table>\n",
       "</div>"
      ],
      "text/plain": [
       "   State  StateID     StateName\n",
       "0  41326    41326      Selangor\n",
       "1  41401    41401  Kuala Lumpur\n",
       "2  41326    41326      Selangor\n",
       "3  41401    41401  Kuala Lumpur\n",
       "4  41326    41326      Selangor"
      ]
     },
     "execution_count": 7,
     "metadata": {},
     "output_type": "execute_result"
    }
   ],
   "source": [
    "train[['State', 'StateID', 'StateName']].head()"
   ]
  },
  {
   "cell_type": "code",
   "execution_count": 8,
   "id": "af6ee5c4",
   "metadata": {
    "execution": {
     "iopub.execute_input": "2025-07-26T17:21:06.753794Z",
     "iopub.status.busy": "2025-07-26T17:21:06.753448Z",
     "iopub.status.idle": "2025-07-26T17:21:06.762274Z",
     "shell.execute_reply": "2025-07-26T17:21:06.761505Z"
    },
    "papermill": {
     "duration": 0.021259,
     "end_time": "2025-07-26T17:21:06.763445",
     "exception": false,
     "start_time": "2025-07-26T17:21:06.742186",
     "status": "completed"
    },
    "tags": []
   },
   "outputs": [],
   "source": [
    "train.drop('StateID', axis=1, inplace=True)\n",
    "test.drop('StateID', axis=1, inplace=True)"
   ]
  },
  {
   "cell_type": "code",
   "execution_count": 9,
   "id": "7a80fb91",
   "metadata": {
    "execution": {
     "iopub.execute_input": "2025-07-26T17:21:06.785695Z",
     "iopub.status.busy": "2025-07-26T17:21:06.785410Z",
     "iopub.status.idle": "2025-07-26T17:21:06.795621Z",
     "shell.execute_reply": "2025-07-26T17:21:06.795007Z"
    },
    "papermill": {
     "duration": 0.022516,
     "end_time": "2025-07-26T17:21:06.796816",
     "exception": false,
     "start_time": "2025-07-26T17:21:06.774300",
     "status": "completed"
    },
    "tags": []
   },
   "outputs": [],
   "source": [
    "breed_labels = pd.read_csv('/kaggle/input/petfinder-adoption-prediction/breed_labels.csv')"
   ]
  },
  {
   "cell_type": "code",
   "execution_count": 10,
   "id": "f21c57d7",
   "metadata": {
    "execution": {
     "iopub.execute_input": "2025-07-26T17:21:06.819735Z",
     "iopub.status.busy": "2025-07-26T17:21:06.819188Z",
     "iopub.status.idle": "2025-07-26T17:21:06.827315Z",
     "shell.execute_reply": "2025-07-26T17:21:06.826519Z"
    },
    "papermill": {
     "duration": 0.021138,
     "end_time": "2025-07-26T17:21:06.828555",
     "exception": false,
     "start_time": "2025-07-26T17:21:06.807417",
     "status": "completed"
    },
    "tags": []
   },
   "outputs": [
    {
     "data": {
      "text/html": [
       "<div>\n",
       "<style scoped>\n",
       "    .dataframe tbody tr th:only-of-type {\n",
       "        vertical-align: middle;\n",
       "    }\n",
       "\n",
       "    .dataframe tbody tr th {\n",
       "        vertical-align: top;\n",
       "    }\n",
       "\n",
       "    .dataframe thead th {\n",
       "        text-align: right;\n",
       "    }\n",
       "</style>\n",
       "<table border=\"1\" class=\"dataframe\">\n",
       "  <thead>\n",
       "    <tr style=\"text-align: right;\">\n",
       "      <th></th>\n",
       "      <th>BreedID</th>\n",
       "      <th>Type</th>\n",
       "      <th>BreedName</th>\n",
       "    </tr>\n",
       "  </thead>\n",
       "  <tbody>\n",
       "    <tr>\n",
       "      <th>0</th>\n",
       "      <td>1</td>\n",
       "      <td>1</td>\n",
       "      <td>Affenpinscher</td>\n",
       "    </tr>\n",
       "    <tr>\n",
       "      <th>1</th>\n",
       "      <td>2</td>\n",
       "      <td>1</td>\n",
       "      <td>Afghan Hound</td>\n",
       "    </tr>\n",
       "    <tr>\n",
       "      <th>2</th>\n",
       "      <td>3</td>\n",
       "      <td>1</td>\n",
       "      <td>Airedale Terrier</td>\n",
       "    </tr>\n",
       "    <tr>\n",
       "      <th>3</th>\n",
       "      <td>4</td>\n",
       "      <td>1</td>\n",
       "      <td>Akbash</td>\n",
       "    </tr>\n",
       "    <tr>\n",
       "      <th>4</th>\n",
       "      <td>5</td>\n",
       "      <td>1</td>\n",
       "      <td>Akita</td>\n",
       "    </tr>\n",
       "  </tbody>\n",
       "</table>\n",
       "</div>"
      ],
      "text/plain": [
       "   BreedID  Type         BreedName\n",
       "0        1     1     Affenpinscher\n",
       "1        2     1      Afghan Hound\n",
       "2        3     1  Airedale Terrier\n",
       "3        4     1            Akbash\n",
       "4        5     1             Akita"
      ]
     },
     "execution_count": 10,
     "metadata": {},
     "output_type": "execute_result"
    }
   ],
   "source": [
    "breed_labels.head()"
   ]
  },
  {
   "cell_type": "code",
   "execution_count": 11,
   "id": "e5be6ad4",
   "metadata": {
    "execution": {
     "iopub.execute_input": "2025-07-26T17:21:06.902897Z",
     "iopub.status.busy": "2025-07-26T17:21:06.902101Z",
     "iopub.status.idle": "2025-07-26T17:21:06.915221Z",
     "shell.execute_reply": "2025-07-26T17:21:06.914324Z"
    },
    "papermill": {
     "duration": 0.025274,
     "end_time": "2025-07-26T17:21:06.916537",
     "exception": false,
     "start_time": "2025-07-26T17:21:06.891263",
     "status": "completed"
    },
    "tags": []
   },
   "outputs": [],
   "source": [
    "train = train.merge(breed_labels, left_on='Breed1', right_on='BreedID', how='left')\n",
    "test = test.merge(breed_labels, left_on='Breed1', right_on='BreedID', how='left')"
   ]
  },
  {
   "cell_type": "code",
   "execution_count": 12,
   "id": "cabb5a03",
   "metadata": {
    "execution": {
     "iopub.execute_input": "2025-07-26T17:21:06.937318Z",
     "iopub.status.busy": "2025-07-26T17:21:06.937050Z",
     "iopub.status.idle": "2025-07-26T17:21:06.941967Z",
     "shell.execute_reply": "2025-07-26T17:21:06.941238Z"
    },
    "papermill": {
     "duration": 0.016543,
     "end_time": "2025-07-26T17:21:06.943162",
     "exception": false,
     "start_time": "2025-07-26T17:21:06.926619",
     "status": "completed"
    },
    "tags": []
   },
   "outputs": [
    {
     "data": {
      "text/plain": [
       "Index(['Type_x', 'Name', 'Age', 'Breed1', 'Breed2', 'Gender', 'Color1',\n",
       "       'Color2', 'Color3', 'MaturitySize', 'FurLength', 'Vaccinated',\n",
       "       'Dewormed', 'Sterilized', 'Health', 'Quantity', 'Fee', 'State',\n",
       "       'RescuerID', 'VideoAmt', 'Description', 'PetID', 'PhotoAmt',\n",
       "       'AdoptionSpeed', 'StateName', 'BreedID', 'Type_y', 'BreedName'],\n",
       "      dtype='object')"
      ]
     },
     "execution_count": 12,
     "metadata": {},
     "output_type": "execute_result"
    }
   ],
   "source": [
    "train.columns"
   ]
  },
  {
   "cell_type": "code",
   "execution_count": 13,
   "id": "d32d22bf",
   "metadata": {
    "execution": {
     "iopub.execute_input": "2025-07-26T17:21:06.964614Z",
     "iopub.status.busy": "2025-07-26T17:21:06.963859Z",
     "iopub.status.idle": "2025-07-26T17:21:06.971100Z",
     "shell.execute_reply": "2025-07-26T17:21:06.970539Z"
    },
    "papermill": {
     "duration": 0.018809,
     "end_time": "2025-07-26T17:21:06.972127",
     "exception": false,
     "start_time": "2025-07-26T17:21:06.953318",
     "status": "completed"
    },
    "tags": []
   },
   "outputs": [],
   "source": [
    "train.drop(['Type_x', 'Type_y', 'BreedID'], axis=1, inplace=True)\n",
    "test.drop(['Type_x', 'Type_y', 'BreedID'], axis=1, inplace=True)"
   ]
  },
  {
   "cell_type": "code",
   "execution_count": 14,
   "id": "e25bc928",
   "metadata": {
    "execution": {
     "iopub.execute_input": "2025-07-26T17:21:06.993218Z",
     "iopub.status.busy": "2025-07-26T17:21:06.992681Z",
     "iopub.status.idle": "2025-07-26T17:21:07.001542Z",
     "shell.execute_reply": "2025-07-26T17:21:07.000939Z"
    },
    "papermill": {
     "duration": 0.02038,
     "end_time": "2025-07-26T17:21:07.002680",
     "exception": false,
     "start_time": "2025-07-26T17:21:06.982300",
     "status": "completed"
    },
    "tags": []
   },
   "outputs": [],
   "source": [
    "color_id = pd.read_csv('/kaggle/input/petfinder-adoption-prediction/color_labels.csv')"
   ]
  },
  {
   "cell_type": "code",
   "execution_count": 15,
   "id": "be86716f",
   "metadata": {
    "execution": {
     "iopub.execute_input": "2025-07-26T17:21:07.023817Z",
     "iopub.status.busy": "2025-07-26T17:21:07.023308Z",
     "iopub.status.idle": "2025-07-26T17:21:07.030037Z",
     "shell.execute_reply": "2025-07-26T17:21:07.029508Z"
    },
    "papermill": {
     "duration": 0.018204,
     "end_time": "2025-07-26T17:21:07.030994",
     "exception": false,
     "start_time": "2025-07-26T17:21:07.012790",
     "status": "completed"
    },
    "tags": []
   },
   "outputs": [
    {
     "data": {
      "text/html": [
       "<div>\n",
       "<style scoped>\n",
       "    .dataframe tbody tr th:only-of-type {\n",
       "        vertical-align: middle;\n",
       "    }\n",
       "\n",
       "    .dataframe tbody tr th {\n",
       "        vertical-align: top;\n",
       "    }\n",
       "\n",
       "    .dataframe thead th {\n",
       "        text-align: right;\n",
       "    }\n",
       "</style>\n",
       "<table border=\"1\" class=\"dataframe\">\n",
       "  <thead>\n",
       "    <tr style=\"text-align: right;\">\n",
       "      <th></th>\n",
       "      <th>ColorID</th>\n",
       "      <th>ColorName</th>\n",
       "    </tr>\n",
       "  </thead>\n",
       "  <tbody>\n",
       "    <tr>\n",
       "      <th>0</th>\n",
       "      <td>1</td>\n",
       "      <td>Black</td>\n",
       "    </tr>\n",
       "    <tr>\n",
       "      <th>1</th>\n",
       "      <td>2</td>\n",
       "      <td>Brown</td>\n",
       "    </tr>\n",
       "    <tr>\n",
       "      <th>2</th>\n",
       "      <td>3</td>\n",
       "      <td>Golden</td>\n",
       "    </tr>\n",
       "    <tr>\n",
       "      <th>3</th>\n",
       "      <td>4</td>\n",
       "      <td>Yellow</td>\n",
       "    </tr>\n",
       "    <tr>\n",
       "      <th>4</th>\n",
       "      <td>5</td>\n",
       "      <td>Cream</td>\n",
       "    </tr>\n",
       "    <tr>\n",
       "      <th>5</th>\n",
       "      <td>6</td>\n",
       "      <td>Gray</td>\n",
       "    </tr>\n",
       "    <tr>\n",
       "      <th>6</th>\n",
       "      <td>7</td>\n",
       "      <td>White</td>\n",
       "    </tr>\n",
       "  </tbody>\n",
       "</table>\n",
       "</div>"
      ],
      "text/plain": [
       "   ColorID ColorName\n",
       "0        1     Black\n",
       "1        2     Brown\n",
       "2        3    Golden\n",
       "3        4    Yellow\n",
       "4        5     Cream\n",
       "5        6      Gray\n",
       "6        7     White"
      ]
     },
     "execution_count": 15,
     "metadata": {},
     "output_type": "execute_result"
    }
   ],
   "source": [
    "color_id.head(10)"
   ]
  },
  {
   "cell_type": "code",
   "execution_count": 16,
   "id": "0df8fc51",
   "metadata": {
    "execution": {
     "iopub.execute_input": "2025-07-26T17:21:07.052873Z",
     "iopub.status.busy": "2025-07-26T17:21:07.052348Z",
     "iopub.status.idle": "2025-07-26T17:21:07.065365Z",
     "shell.execute_reply": "2025-07-26T17:21:07.064601Z"
    },
    "papermill": {
     "duration": 0.025633,
     "end_time": "2025-07-26T17:21:07.066646",
     "exception": false,
     "start_time": "2025-07-26T17:21:07.041013",
     "status": "completed"
    },
    "tags": []
   },
   "outputs": [],
   "source": [
    "train = train.merge(color_id, left_on='Color1', right_on='ColorID', how='left')\n",
    "test = test.merge(color_id, left_on='Color1', right_on='ColorID', how='left')"
   ]
  },
  {
   "cell_type": "code",
   "execution_count": 17,
   "id": "7ed15683",
   "metadata": {
    "execution": {
     "iopub.execute_input": "2025-07-26T17:21:07.087426Z",
     "iopub.status.busy": "2025-07-26T17:21:07.087208Z",
     "iopub.status.idle": "2025-07-26T17:21:07.093972Z",
     "shell.execute_reply": "2025-07-26T17:21:07.093411Z"
    },
    "papermill": {
     "duration": 0.018313,
     "end_time": "2025-07-26T17:21:07.095006",
     "exception": false,
     "start_time": "2025-07-26T17:21:07.076693",
     "status": "completed"
    },
    "tags": []
   },
   "outputs": [],
   "source": [
    "train.drop('ColorID', axis=1, inplace=True)\n",
    "test.drop('ColorID', axis=1, inplace=True)"
   ]
  },
  {
   "cell_type": "code",
   "execution_count": 18,
   "id": "11648016",
   "metadata": {
    "execution": {
     "iopub.execute_input": "2025-07-26T17:21:07.115664Z",
     "iopub.status.busy": "2025-07-26T17:21:07.115334Z",
     "iopub.status.idle": "2025-07-26T17:21:07.137391Z",
     "shell.execute_reply": "2025-07-26T17:21:07.136397Z"
    },
    "papermill": {
     "duration": 0.033911,
     "end_time": "2025-07-26T17:21:07.138886",
     "exception": false,
     "start_time": "2025-07-26T17:21:07.104975",
     "status": "completed"
    },
    "tags": []
   },
   "outputs": [
    {
     "name": "stdout",
     "output_type": "stream",
     "text": [
      "<class 'pandas.core.frame.DataFrame'>\n",
      "RangeIndex: 14993 entries, 0 to 14992\n",
      "Data columns (total 26 columns):\n",
      " #   Column         Non-Null Count  Dtype  \n",
      "---  ------         --------------  -----  \n",
      " 0   Name           13728 non-null  object \n",
      " 1   Age            14993 non-null  int64  \n",
      " 2   Breed1         14993 non-null  int64  \n",
      " 3   Breed2         14993 non-null  int64  \n",
      " 4   Gender         14993 non-null  int64  \n",
      " 5   Color1         14993 non-null  int64  \n",
      " 6   Color2         14993 non-null  int64  \n",
      " 7   Color3         14993 non-null  int64  \n",
      " 8   MaturitySize   14993 non-null  int64  \n",
      " 9   FurLength      14993 non-null  int64  \n",
      " 10  Vaccinated     14993 non-null  int64  \n",
      " 11  Dewormed       14993 non-null  int64  \n",
      " 12  Sterilized     14993 non-null  int64  \n",
      " 13  Health         14993 non-null  int64  \n",
      " 14  Quantity       14993 non-null  int64  \n",
      " 15  Fee            14993 non-null  int64  \n",
      " 16  State          14993 non-null  int64  \n",
      " 17  RescuerID      14993 non-null  object \n",
      " 18  VideoAmt       14993 non-null  int64  \n",
      " 19  Description    14980 non-null  object \n",
      " 20  PetID          14993 non-null  object \n",
      " 21  PhotoAmt       14993 non-null  float64\n",
      " 22  AdoptionSpeed  14993 non-null  int64  \n",
      " 23  StateName      14993 non-null  object \n",
      " 24  BreedName      14988 non-null  object \n",
      " 25  ColorName      14993 non-null  object \n",
      "dtypes: float64(1), int64(18), object(7)\n",
      "memory usage: 3.0+ MB\n"
     ]
    }
   ],
   "source": [
    "train.info()"
   ]
  },
  {
   "cell_type": "code",
   "execution_count": 19,
   "id": "4387e151",
   "metadata": {
    "execution": {
     "iopub.execute_input": "2025-07-26T17:21:07.161061Z",
     "iopub.status.busy": "2025-07-26T17:21:07.160748Z",
     "iopub.status.idle": "2025-07-26T17:21:07.208575Z",
     "shell.execute_reply": "2025-07-26T17:21:07.207822Z"
    },
    "papermill": {
     "duration": 0.059831,
     "end_time": "2025-07-26T17:21:07.209773",
     "exception": false,
     "start_time": "2025-07-26T17:21:07.149942",
     "status": "completed"
    },
    "tags": []
   },
   "outputs": [
    {
     "data": {
      "text/html": [
       "<div>\n",
       "<style scoped>\n",
       "    .dataframe tbody tr th:only-of-type {\n",
       "        vertical-align: middle;\n",
       "    }\n",
       "\n",
       "    .dataframe tbody tr th {\n",
       "        vertical-align: top;\n",
       "    }\n",
       "\n",
       "    .dataframe thead th {\n",
       "        text-align: right;\n",
       "    }\n",
       "</style>\n",
       "<table border=\"1\" class=\"dataframe\">\n",
       "  <thead>\n",
       "    <tr style=\"text-align: right;\">\n",
       "      <th></th>\n",
       "      <th>count</th>\n",
       "      <th>mean</th>\n",
       "      <th>std</th>\n",
       "      <th>min</th>\n",
       "      <th>25%</th>\n",
       "      <th>50%</th>\n",
       "      <th>75%</th>\n",
       "      <th>max</th>\n",
       "    </tr>\n",
       "  </thead>\n",
       "  <tbody>\n",
       "    <tr>\n",
       "      <th>Age</th>\n",
       "      <td>14993.0</td>\n",
       "      <td>10.452078</td>\n",
       "      <td>18.155790</td>\n",
       "      <td>0.0</td>\n",
       "      <td>2.0</td>\n",
       "      <td>3.0</td>\n",
       "      <td>12.0</td>\n",
       "      <td>255.0</td>\n",
       "    </tr>\n",
       "    <tr>\n",
       "      <th>Breed1</th>\n",
       "      <td>14993.0</td>\n",
       "      <td>265.272594</td>\n",
       "      <td>60.056818</td>\n",
       "      <td>0.0</td>\n",
       "      <td>265.0</td>\n",
       "      <td>266.0</td>\n",
       "      <td>307.0</td>\n",
       "      <td>307.0</td>\n",
       "    </tr>\n",
       "    <tr>\n",
       "      <th>Breed2</th>\n",
       "      <td>14993.0</td>\n",
       "      <td>74.009738</td>\n",
       "      <td>123.011575</td>\n",
       "      <td>0.0</td>\n",
       "      <td>0.0</td>\n",
       "      <td>0.0</td>\n",
       "      <td>179.0</td>\n",
       "      <td>307.0</td>\n",
       "    </tr>\n",
       "    <tr>\n",
       "      <th>Gender</th>\n",
       "      <td>14993.0</td>\n",
       "      <td>1.776162</td>\n",
       "      <td>0.681592</td>\n",
       "      <td>1.0</td>\n",
       "      <td>1.0</td>\n",
       "      <td>2.0</td>\n",
       "      <td>2.0</td>\n",
       "      <td>3.0</td>\n",
       "    </tr>\n",
       "    <tr>\n",
       "      <th>Color1</th>\n",
       "      <td>14993.0</td>\n",
       "      <td>2.234176</td>\n",
       "      <td>1.745225</td>\n",
       "      <td>1.0</td>\n",
       "      <td>1.0</td>\n",
       "      <td>2.0</td>\n",
       "      <td>3.0</td>\n",
       "      <td>7.0</td>\n",
       "    </tr>\n",
       "    <tr>\n",
       "      <th>Color2</th>\n",
       "      <td>14993.0</td>\n",
       "      <td>3.222837</td>\n",
       "      <td>2.742562</td>\n",
       "      <td>0.0</td>\n",
       "      <td>0.0</td>\n",
       "      <td>2.0</td>\n",
       "      <td>6.0</td>\n",
       "      <td>7.0</td>\n",
       "    </tr>\n",
       "    <tr>\n",
       "      <th>Color3</th>\n",
       "      <td>14993.0</td>\n",
       "      <td>1.882012</td>\n",
       "      <td>2.984086</td>\n",
       "      <td>0.0</td>\n",
       "      <td>0.0</td>\n",
       "      <td>0.0</td>\n",
       "      <td>5.0</td>\n",
       "      <td>7.0</td>\n",
       "    </tr>\n",
       "    <tr>\n",
       "      <th>MaturitySize</th>\n",
       "      <td>14993.0</td>\n",
       "      <td>1.862002</td>\n",
       "      <td>0.547959</td>\n",
       "      <td>1.0</td>\n",
       "      <td>2.0</td>\n",
       "      <td>2.0</td>\n",
       "      <td>2.0</td>\n",
       "      <td>4.0</td>\n",
       "    </tr>\n",
       "    <tr>\n",
       "      <th>FurLength</th>\n",
       "      <td>14993.0</td>\n",
       "      <td>1.467485</td>\n",
       "      <td>0.599070</td>\n",
       "      <td>1.0</td>\n",
       "      <td>1.0</td>\n",
       "      <td>1.0</td>\n",
       "      <td>2.0</td>\n",
       "      <td>3.0</td>\n",
       "    </tr>\n",
       "    <tr>\n",
       "      <th>Vaccinated</th>\n",
       "      <td>14993.0</td>\n",
       "      <td>1.731208</td>\n",
       "      <td>0.667649</td>\n",
       "      <td>1.0</td>\n",
       "      <td>1.0</td>\n",
       "      <td>2.0</td>\n",
       "      <td>2.0</td>\n",
       "      <td>3.0</td>\n",
       "    </tr>\n",
       "    <tr>\n",
       "      <th>Dewormed</th>\n",
       "      <td>14993.0</td>\n",
       "      <td>1.558727</td>\n",
       "      <td>0.695817</td>\n",
       "      <td>1.0</td>\n",
       "      <td>1.0</td>\n",
       "      <td>1.0</td>\n",
       "      <td>2.0</td>\n",
       "      <td>3.0</td>\n",
       "    </tr>\n",
       "    <tr>\n",
       "      <th>Sterilized</th>\n",
       "      <td>14993.0</td>\n",
       "      <td>1.914227</td>\n",
       "      <td>0.566172</td>\n",
       "      <td>1.0</td>\n",
       "      <td>2.0</td>\n",
       "      <td>2.0</td>\n",
       "      <td>2.0</td>\n",
       "      <td>3.0</td>\n",
       "    </tr>\n",
       "    <tr>\n",
       "      <th>Health</th>\n",
       "      <td>14993.0</td>\n",
       "      <td>1.036617</td>\n",
       "      <td>0.199535</td>\n",
       "      <td>1.0</td>\n",
       "      <td>1.0</td>\n",
       "      <td>1.0</td>\n",
       "      <td>1.0</td>\n",
       "      <td>3.0</td>\n",
       "    </tr>\n",
       "    <tr>\n",
       "      <th>Quantity</th>\n",
       "      <td>14993.0</td>\n",
       "      <td>1.576069</td>\n",
       "      <td>1.472477</td>\n",
       "      <td>1.0</td>\n",
       "      <td>1.0</td>\n",
       "      <td>1.0</td>\n",
       "      <td>1.0</td>\n",
       "      <td>20.0</td>\n",
       "    </tr>\n",
       "    <tr>\n",
       "      <th>Fee</th>\n",
       "      <td>14993.0</td>\n",
       "      <td>21.259988</td>\n",
       "      <td>78.414548</td>\n",
       "      <td>0.0</td>\n",
       "      <td>0.0</td>\n",
       "      <td>0.0</td>\n",
       "      <td>0.0</td>\n",
       "      <td>3000.0</td>\n",
       "    </tr>\n",
       "    <tr>\n",
       "      <th>State</th>\n",
       "      <td>14993.0</td>\n",
       "      <td>41346.028347</td>\n",
       "      <td>32.444153</td>\n",
       "      <td>41324.0</td>\n",
       "      <td>41326.0</td>\n",
       "      <td>41326.0</td>\n",
       "      <td>41401.0</td>\n",
       "      <td>41415.0</td>\n",
       "    </tr>\n",
       "    <tr>\n",
       "      <th>VideoAmt</th>\n",
       "      <td>14993.0</td>\n",
       "      <td>0.056760</td>\n",
       "      <td>0.346185</td>\n",
       "      <td>0.0</td>\n",
       "      <td>0.0</td>\n",
       "      <td>0.0</td>\n",
       "      <td>0.0</td>\n",
       "      <td>8.0</td>\n",
       "    </tr>\n",
       "    <tr>\n",
       "      <th>PhotoAmt</th>\n",
       "      <td>14993.0</td>\n",
       "      <td>3.889215</td>\n",
       "      <td>3.487810</td>\n",
       "      <td>0.0</td>\n",
       "      <td>2.0</td>\n",
       "      <td>3.0</td>\n",
       "      <td>5.0</td>\n",
       "      <td>30.0</td>\n",
       "    </tr>\n",
       "    <tr>\n",
       "      <th>AdoptionSpeed</th>\n",
       "      <td>14993.0</td>\n",
       "      <td>2.516441</td>\n",
       "      <td>1.177265</td>\n",
       "      <td>0.0</td>\n",
       "      <td>2.0</td>\n",
       "      <td>2.0</td>\n",
       "      <td>4.0</td>\n",
       "      <td>4.0</td>\n",
       "    </tr>\n",
       "  </tbody>\n",
       "</table>\n",
       "</div>"
      ],
      "text/plain": [
       "                 count          mean         std      min      25%      50%  \\\n",
       "Age            14993.0     10.452078   18.155790      0.0      2.0      3.0   \n",
       "Breed1         14993.0    265.272594   60.056818      0.0    265.0    266.0   \n",
       "Breed2         14993.0     74.009738  123.011575      0.0      0.0      0.0   \n",
       "Gender         14993.0      1.776162    0.681592      1.0      1.0      2.0   \n",
       "Color1         14993.0      2.234176    1.745225      1.0      1.0      2.0   \n",
       "Color2         14993.0      3.222837    2.742562      0.0      0.0      2.0   \n",
       "Color3         14993.0      1.882012    2.984086      0.0      0.0      0.0   \n",
       "MaturitySize   14993.0      1.862002    0.547959      1.0      2.0      2.0   \n",
       "FurLength      14993.0      1.467485    0.599070      1.0      1.0      1.0   \n",
       "Vaccinated     14993.0      1.731208    0.667649      1.0      1.0      2.0   \n",
       "Dewormed       14993.0      1.558727    0.695817      1.0      1.0      1.0   \n",
       "Sterilized     14993.0      1.914227    0.566172      1.0      2.0      2.0   \n",
       "Health         14993.0      1.036617    0.199535      1.0      1.0      1.0   \n",
       "Quantity       14993.0      1.576069    1.472477      1.0      1.0      1.0   \n",
       "Fee            14993.0     21.259988   78.414548      0.0      0.0      0.0   \n",
       "State          14993.0  41346.028347   32.444153  41324.0  41326.0  41326.0   \n",
       "VideoAmt       14993.0      0.056760    0.346185      0.0      0.0      0.0   \n",
       "PhotoAmt       14993.0      3.889215    3.487810      0.0      2.0      3.0   \n",
       "AdoptionSpeed  14993.0      2.516441    1.177265      0.0      2.0      2.0   \n",
       "\n",
       "                   75%      max  \n",
       "Age               12.0    255.0  \n",
       "Breed1           307.0    307.0  \n",
       "Breed2           179.0    307.0  \n",
       "Gender             2.0      3.0  \n",
       "Color1             3.0      7.0  \n",
       "Color2             6.0      7.0  \n",
       "Color3             5.0      7.0  \n",
       "MaturitySize       2.0      4.0  \n",
       "FurLength          2.0      3.0  \n",
       "Vaccinated         2.0      3.0  \n",
       "Dewormed           2.0      3.0  \n",
       "Sterilized         2.0      3.0  \n",
       "Health             1.0      3.0  \n",
       "Quantity           1.0     20.0  \n",
       "Fee                0.0   3000.0  \n",
       "State          41401.0  41415.0  \n",
       "VideoAmt           0.0      8.0  \n",
       "PhotoAmt           5.0     30.0  \n",
       "AdoptionSpeed      4.0      4.0  "
      ]
     },
     "execution_count": 19,
     "metadata": {},
     "output_type": "execute_result"
    }
   ],
   "source": [
    "train.describe().transpose()"
   ]
  },
  {
   "cell_type": "code",
   "execution_count": 20,
   "id": "e33de575",
   "metadata": {
    "execution": {
     "iopub.execute_input": "2025-07-26T17:21:07.232553Z",
     "iopub.status.busy": "2025-07-26T17:21:07.231861Z",
     "iopub.status.idle": "2025-07-26T17:21:07.244661Z",
     "shell.execute_reply": "2025-07-26T17:21:07.244014Z"
    },
    "papermill": {
     "duration": 0.025351,
     "end_time": "2025-07-26T17:21:07.245882",
     "exception": false,
     "start_time": "2025-07-26T17:21:07.220531",
     "status": "completed"
    },
    "tags": []
   },
   "outputs": [
    {
     "data": {
      "text/plain": [
       "Name             1265\n",
       "Age                 0\n",
       "Breed1              0\n",
       "Breed2              0\n",
       "Gender              0\n",
       "Color1              0\n",
       "Color2              0\n",
       "Color3              0\n",
       "MaturitySize        0\n",
       "FurLength           0\n",
       "Vaccinated          0\n",
       "Dewormed            0\n",
       "Sterilized          0\n",
       "Health              0\n",
       "Quantity            0\n",
       "Fee                 0\n",
       "State               0\n",
       "RescuerID           0\n",
       "VideoAmt            0\n",
       "Description        13\n",
       "PetID               0\n",
       "PhotoAmt            0\n",
       "AdoptionSpeed       0\n",
       "StateName           0\n",
       "BreedName           5\n",
       "ColorName           0\n",
       "dtype: int64"
      ]
     },
     "execution_count": 20,
     "metadata": {},
     "output_type": "execute_result"
    }
   ],
   "source": [
    "train.isnull().sum()"
   ]
  },
  {
   "cell_type": "code",
   "execution_count": 21,
   "id": "528b3769",
   "metadata": {
    "execution": {
     "iopub.execute_input": "2025-07-26T17:21:07.267685Z",
     "iopub.status.busy": "2025-07-26T17:21:07.267404Z",
     "iopub.status.idle": "2025-07-26T17:21:07.290123Z",
     "shell.execute_reply": "2025-07-26T17:21:07.289388Z"
    },
    "papermill": {
     "duration": 0.034976,
     "end_time": "2025-07-26T17:21:07.291454",
     "exception": false,
     "start_time": "2025-07-26T17:21:07.256478",
     "status": "completed"
    },
    "tags": []
   },
   "outputs": [
    {
     "data": {
      "text/plain": [
       "0"
      ]
     },
     "execution_count": 21,
     "metadata": {},
     "output_type": "execute_result"
    }
   ],
   "source": [
    "train.duplicated().sum()"
   ]
  },
  {
   "cell_type": "markdown",
   "id": "962cc157",
   "metadata": {
    "papermill": {
     "duration": 0.012048,
     "end_time": "2025-07-26T17:21:07.314675",
     "exception": false,
     "start_time": "2025-07-26T17:21:07.302627",
     "status": "completed"
    },
    "tags": []
   },
   "source": [
    "## EDA"
   ]
  },
  {
   "cell_type": "code",
   "execution_count": 22,
   "id": "9de5b468",
   "metadata": {
    "execution": {
     "iopub.execute_input": "2025-07-26T17:21:07.338289Z",
     "iopub.status.busy": "2025-07-26T17:21:07.337651Z",
     "iopub.status.idle": "2025-07-26T17:21:07.344109Z",
     "shell.execute_reply": "2025-07-26T17:21:07.343441Z"
    },
    "papermill": {
     "duration": 0.019581,
     "end_time": "2025-07-26T17:21:07.345268",
     "exception": false,
     "start_time": "2025-07-26T17:21:07.325687",
     "status": "completed"
    },
    "tags": []
   },
   "outputs": [],
   "source": [
    "train['Name'].fillna('Unnamed', inplace=True)\n",
    "test['Name'].fillna('Unnamed', inplace=True)"
   ]
  },
  {
   "cell_type": "code",
   "execution_count": 23,
   "id": "a9479dff",
   "metadata": {
    "execution": {
     "iopub.execute_input": "2025-07-26T17:21:07.367171Z",
     "iopub.status.busy": "2025-07-26T17:21:07.366926Z",
     "iopub.status.idle": "2025-07-26T17:21:07.374930Z",
     "shell.execute_reply": "2025-07-26T17:21:07.374024Z"
    },
    "papermill": {
     "duration": 0.020796,
     "end_time": "2025-07-26T17:21:07.376718",
     "exception": false,
     "start_time": "2025-07-26T17:21:07.355922",
     "status": "completed"
    },
    "tags": []
   },
   "outputs": [],
   "source": [
    "train['Description'].fillna('No Description', inplace=True)\n",
    "test['Description'].fillna('No Description', inplace=True)"
   ]
  },
  {
   "cell_type": "code",
   "execution_count": 24,
   "id": "c94bd9b3",
   "metadata": {
    "execution": {
     "iopub.execute_input": "2025-07-26T17:21:07.425726Z",
     "iopub.status.busy": "2025-07-26T17:21:07.424765Z",
     "iopub.status.idle": "2025-07-26T17:21:07.443155Z",
     "shell.execute_reply": "2025-07-26T17:21:07.442212Z"
    },
    "papermill": {
     "duration": 0.04385,
     "end_time": "2025-07-26T17:21:07.444796",
     "exception": false,
     "start_time": "2025-07-26T17:21:07.400946",
     "status": "completed"
    },
    "tags": []
   },
   "outputs": [],
   "source": [
    "train['Description_length'] = train['Description'].str.len()\n",
    "test['Description_length'] = test['Description'].str.len()"
   ]
  },
  {
   "cell_type": "code",
   "execution_count": 25,
   "id": "da267c35",
   "metadata": {
    "execution": {
     "iopub.execute_input": "2025-07-26T17:21:07.480634Z",
     "iopub.status.busy": "2025-07-26T17:21:07.479972Z",
     "iopub.status.idle": "2025-07-26T17:21:07.491391Z",
     "shell.execute_reply": "2025-07-26T17:21:07.490830Z"
    },
    "papermill": {
     "duration": 0.027798,
     "end_time": "2025-07-26T17:21:07.492516",
     "exception": false,
     "start_time": "2025-07-26T17:21:07.464718",
     "status": "completed"
    },
    "tags": []
   },
   "outputs": [],
   "source": [
    "train.dropna(subset=['BreedName'], inplace=True)\n",
    "test.dropna(subset=['BreedName'], inplace=True)"
   ]
  },
  {
   "cell_type": "code",
   "execution_count": 26,
   "id": "2d040a13",
   "metadata": {
    "execution": {
     "iopub.execute_input": "2025-07-26T17:21:07.515465Z",
     "iopub.status.busy": "2025-07-26T17:21:07.514819Z",
     "iopub.status.idle": "2025-07-26T17:21:07.969528Z",
     "shell.execute_reply": "2025-07-26T17:21:07.968801Z"
    },
    "papermill": {
     "duration": 0.467785,
     "end_time": "2025-07-26T17:21:07.971026",
     "exception": false,
     "start_time": "2025-07-26T17:21:07.503241",
     "status": "completed"
    },
    "tags": []
   },
   "outputs": [
    {
     "data": {
      "text/plain": [
       "<Axes: >"
      ]
     },
     "execution_count": 26,
     "metadata": {},
     "output_type": "execute_result"
    },
    {
     "data": {
      "image/png": "[encoded data removed]",
      "text/plain": [
       "<Figure size 640x480 with 2 Axes>"
      ]
     },
     "metadata": {},
     "output_type": "display_data"
    }
   ],
   "source": [
    "sns.heatmap(train.corr(numeric_only=True), cmap='viridis')"
   ]
  },
  {
   "cell_type": "code",
   "execution_count": 27,
   "id": "caa80f58",
   "metadata": {
    "execution": {
     "iopub.execute_input": "2025-07-26T17:21:07.996058Z",
     "iopub.status.busy": "2025-07-26T17:21:07.995822Z",
     "iopub.status.idle": "2025-07-26T17:21:08.362006Z",
     "shell.execute_reply": "2025-07-26T17:21:08.361221Z"
    },
    "papermill": {
     "duration": 0.379964,
     "end_time": "2025-07-26T17:21:08.363402",
     "exception": false,
     "start_time": "2025-07-26T17:21:07.983438",
     "status": "completed"
    },
    "tags": []
   },
   "outputs": [
    {
     "data": {
      "text/plain": [
       "Text(0.5, 1.0, 'Histogram of Adoption Speed')"
      ]
     },
     "execution_count": 27,
     "metadata": {},
     "output_type": "execute_result"
    },
    {
     "data": {
      "image/png": "[encoded data removed]",
      "text/plain": [
       "<Figure size 1200x600 with 1 Axes>"
      ]
     },
     "metadata": {},
     "output_type": "display_data"
    }
   ],
   "source": [
    "sns.set_style('whitegrid')\n",
    "plt.figure(figsize=(12,6))\n",
    "train['AdoptionSpeed'].plot(kind='hist', bins=30, color = 'lightblue')\n",
    "plt.title('Histogram of Adoption Speed')"
   ]
  },
  {
   "cell_type": "code",
   "execution_count": 28,
   "id": "1766bd92",
   "metadata": {
    "execution": {
     "iopub.execute_input": "2025-07-26T17:21:08.389833Z",
     "iopub.status.busy": "2025-07-26T17:21:08.389381Z",
     "iopub.status.idle": "2025-07-26T17:21:08.916846Z",
     "shell.execute_reply": "2025-07-26T17:21:08.915976Z"
    },
    "papermill": {
     "duration": 0.541991,
     "end_time": "2025-07-26T17:21:08.918442",
     "exception": false,
     "start_time": "2025-07-26T17:21:08.376451",
     "status": "completed"
    },
    "tags": []
   },
   "outputs": [
    {
     "data": {
      "text/plain": [
       "Text(0.5, 1.0, 'Histogram of Age of the Pets')"
      ]
     },
     "execution_count": 28,
     "metadata": {},
     "output_type": "execute_result"
    },
    {
     "data": {
      "image/png": "[encoded data removed]",
      "text/plain": [
       "<Figure size 1200x600 with 1 Axes>"
      ]
     },
     "metadata": {},
     "output_type": "display_data"
    }
   ],
   "source": [
    "plt.figure(figsize=(12,6))\n",
    "sns.histplot(data=train, x='Age', hue='AdoptionSpeed', bins=30, palette='muted')\n",
    "plt.title('Histogram of Age of the Pets')"
   ]
  },
  {
   "cell_type": "code",
   "execution_count": 29,
   "id": "ae480d8a",
   "metadata": {
    "execution": {
     "iopub.execute_input": "2025-07-26T17:21:08.945776Z",
     "iopub.status.busy": "2025-07-26T17:21:08.945269Z",
     "iopub.status.idle": "2025-07-26T17:21:09.220371Z",
     "shell.execute_reply": "2025-07-26T17:21:09.219617Z"
    },
    "papermill": {
     "duration": 0.289556,
     "end_time": "2025-07-26T17:21:09.221693",
     "exception": false,
     "start_time": "2025-07-26T17:21:08.932137",
     "status": "completed"
    },
    "tags": []
   },
   "outputs": [
    {
     "data": {
      "text/plain": [
       "Text(0.5, 1.0, 'Number of Adopted Pets based off Health Conditions')"
      ]
     },
     "execution_count": 29,
     "metadata": {},
     "output_type": "execute_result"
    },
    {
     "data": {
      "image/png": "[encoded data removed]",
      "text/plain": [
       "<Figure size 1200x600 with 1 Axes>"
      ]
     },
     "metadata": {},
     "output_type": "display_data"
    }
   ],
   "source": [
    "plt.figure(figsize=(12,6))\n",
    "sns.countplot(data=train, x='Health', hue='AdoptionSpeed', palette='coolwarm')\n",
    "plt.title('Number of Adopted Pets based off Health Conditions')"
   ]
  },
  {
   "cell_type": "code",
   "execution_count": 30,
   "id": "6ba27a10",
   "metadata": {
    "execution": {
     "iopub.execute_input": "2025-07-26T17:21:09.251719Z",
     "iopub.status.busy": "2025-07-26T17:21:09.251410Z",
     "iopub.status.idle": "2025-07-26T17:21:09.524110Z",
     "shell.execute_reply": "2025-07-26T17:21:09.523383Z"
    },
    "papermill": {
     "duration": 0.289227,
     "end_time": "2025-07-26T17:21:09.525310",
     "exception": false,
     "start_time": "2025-07-26T17:21:09.236083",
     "status": "completed"
    },
    "tags": []
   },
   "outputs": [
    {
     "data": {
      "text/plain": [
       "Text(0.5, 1.0, 'Number of Adopted Pets based off Vaccination')"
      ]
     },
     "execution_count": 30,
     "metadata": {},
     "output_type": "execute_result"
    },
    {
     "data": {
      "image/png": "[encoded data removed]",
      "text/plain": [
       "<Figure size 1200x600 with 1 Axes>"
      ]
     },
     "metadata": {},
     "output_type": "display_data"
    }
   ],
   "source": [
    "plt.figure(figsize=(12,6))\n",
    "sns.countplot(data=train, x='Vaccinated', hue='AdoptionSpeed', palette='dark:salmon_r')\n",
    "plt.title('Number of Adopted Pets based off Vaccination')"
   ]
  },
  {
   "cell_type": "code",
   "execution_count": 31,
   "id": "29a59dfe",
   "metadata": {
    "execution": {
     "iopub.execute_input": "2025-07-26T17:21:09.555441Z",
     "iopub.status.busy": "2025-07-26T17:21:09.554686Z",
     "iopub.status.idle": "2025-07-26T17:21:09.822600Z",
     "shell.execute_reply": "2025-07-26T17:21:09.821860Z"
    },
    "papermill": {
     "duration": 0.283713,
     "end_time": "2025-07-26T17:21:09.823830",
     "exception": false,
     "start_time": "2025-07-26T17:21:09.540117",
     "status": "completed"
    },
    "tags": []
   },
   "outputs": [
    {
     "data": {
      "text/plain": [
       "Text(0.5, 1.0, 'Number of Adopted Pets based off Gender')"
      ]
     },
     "execution_count": 31,
     "metadata": {},
     "output_type": "execute_result"
    },
    {
     "data": {
      "image/png": "[encoded data removed]",
      "text/plain": [
       "<Figure size 1200x600 with 1 Axes>"
      ]
     },
     "metadata": {},
     "output_type": "display_data"
    }
   ],
   "source": [
    "plt.figure(figsize=(12,6))\n",
    "sns.countplot(data=train, x='Gender', hue='AdoptionSpeed', palette='icefire')\n",
    "plt.title('Number of Adopted Pets based off Gender')"
   ]
  },
  {
   "cell_type": "code",
   "execution_count": 32,
   "id": "a8a9e48d",
   "metadata": {
    "execution": {
     "iopub.execute_input": "2025-07-26T17:21:09.854563Z",
     "iopub.status.busy": "2025-07-26T17:21:09.853813Z",
     "iopub.status.idle": "2025-07-26T17:21:10.094149Z",
     "shell.execute_reply": "2025-07-26T17:21:10.093366Z"
    },
    "papermill": {
     "duration": 0.256812,
     "end_time": "2025-07-26T17:21:10.095371",
     "exception": false,
     "start_time": "2025-07-26T17:21:09.838559",
     "status": "completed"
    },
    "tags": []
   },
   "outputs": [
    {
     "data": {
      "text/plain": [
       "Text(0.5, 1.0, 'PhotoAmt Distribution by AdoptionSpeed')"
      ]
     },
     "execution_count": 32,
     "metadata": {},
     "output_type": "execute_result"
    },
    {
     "data": {
      "image/png": "[encoded data removed]",
      "text/plain": [
       "<Figure size 1200x600 with 1 Axes>"
      ]
     },
     "metadata": {},
     "output_type": "display_data"
    }
   ],
   "source": [
    "plt.figure(figsize=(12, 6))\n",
    "sns.boxplot(x='AdoptionSpeed', y='PhotoAmt', data=train, palette='coolwarm')\n",
    "plt.title('PhotoAmt Distribution by AdoptionSpeed')"
   ]
  },
  {
   "cell_type": "code",
   "execution_count": 33,
   "id": "3b529384",
   "metadata": {
    "execution": {
     "iopub.execute_input": "2025-07-26T17:21:10.128445Z",
     "iopub.status.busy": "2025-07-26T17:21:10.127745Z",
     "iopub.status.idle": "2025-07-26T17:21:10.136874Z",
     "shell.execute_reply": "2025-07-26T17:21:10.136220Z"
    },
    "papermill": {
     "duration": 0.026539,
     "end_time": "2025-07-26T17:21:10.138014",
     "exception": false,
     "start_time": "2025-07-26T17:21:10.111475",
     "status": "completed"
    },
    "tags": []
   },
   "outputs": [
    {
     "data": {
      "text/html": [
       "<div>\n",
       "<style scoped>\n",
       "    .dataframe tbody tr th:only-of-type {\n",
       "        vertical-align: middle;\n",
       "    }\n",
       "\n",
       "    .dataframe tbody tr th {\n",
       "        vertical-align: top;\n",
       "    }\n",
       "\n",
       "    .dataframe thead th {\n",
       "        text-align: right;\n",
       "    }\n",
       "</style>\n",
       "<table border=\"1\" class=\"dataframe\">\n",
       "  <thead>\n",
       "    <tr style=\"text-align: right;\">\n",
       "      <th></th>\n",
       "      <th>Description_length</th>\n",
       "      <th>AdoptionSpeed</th>\n",
       "    </tr>\n",
       "  </thead>\n",
       "  <tbody>\n",
       "    <tr>\n",
       "      <th>Description_length</th>\n",
       "      <td>1.000000</td>\n",
       "      <td>-0.010067</td>\n",
       "    </tr>\n",
       "    <tr>\n",
       "      <th>AdoptionSpeed</th>\n",
       "      <td>-0.010067</td>\n",
       "      <td>1.000000</td>\n",
       "    </tr>\n",
       "  </tbody>\n",
       "</table>\n",
       "</div>"
      ],
      "text/plain": [
       "                    Description_length  AdoptionSpeed\n",
       "Description_length            1.000000      -0.010067\n",
       "AdoptionSpeed                -0.010067       1.000000"
      ]
     },
     "execution_count": 33,
     "metadata": {},
     "output_type": "execute_result"
    }
   ],
   "source": [
    "train[['Description_length', 'AdoptionSpeed']].corr()"
   ]
  },
  {
   "cell_type": "code",
   "execution_count": 34,
   "id": "87ae7406",
   "metadata": {
    "execution": {
     "iopub.execute_input": "2025-07-26T17:21:10.172048Z",
     "iopub.status.busy": "2025-07-26T17:21:10.171600Z",
     "iopub.status.idle": "2025-07-26T17:21:10.178612Z",
     "shell.execute_reply": "2025-07-26T17:21:10.178020Z"
    },
    "papermill": {
     "duration": 0.025016,
     "end_time": "2025-07-26T17:21:10.179832",
     "exception": false,
     "start_time": "2025-07-26T17:21:10.154816",
     "status": "completed"
    },
    "tags": []
   },
   "outputs": [],
   "source": [
    "train.drop('Description_length', axis=1, inplace=True)\n",
    "test.drop('Description_length', axis=1, inplace=True)"
   ]
  },
  {
   "cell_type": "code",
   "execution_count": 35,
   "id": "6c068969",
   "metadata": {
    "execution": {
     "iopub.execute_input": "2025-07-26T17:21:10.211167Z",
     "iopub.status.busy": "2025-07-26T17:21:10.210445Z",
     "iopub.status.idle": "2025-07-26T17:21:10.221145Z",
     "shell.execute_reply": "2025-07-26T17:21:10.220385Z"
    },
    "papermill": {
     "duration": 0.02775,
     "end_time": "2025-07-26T17:21:10.222362",
     "exception": false,
     "start_time": "2025-07-26T17:21:10.194612",
     "status": "completed"
    },
    "tags": []
   },
   "outputs": [],
   "source": [
    "train['Name_length'] = train['Name'].str.len()\n",
    "test['Name_length'] = test['Name'].str.len()"
   ]
  },
  {
   "cell_type": "code",
   "execution_count": 36,
   "id": "9a776c76",
   "metadata": {
    "execution": {
     "iopub.execute_input": "2025-07-26T17:21:10.254368Z",
     "iopub.status.busy": "2025-07-26T17:21:10.254090Z",
     "iopub.status.idle": "2025-07-26T17:21:10.262625Z",
     "shell.execute_reply": "2025-07-26T17:21:10.262016Z"
    },
    "papermill": {
     "duration": 0.025412,
     "end_time": "2025-07-26T17:21:10.263749",
     "exception": false,
     "start_time": "2025-07-26T17:21:10.238337",
     "status": "completed"
    },
    "tags": []
   },
   "outputs": [
    {
     "data": {
      "text/html": [
       "<div>\n",
       "<style scoped>\n",
       "    .dataframe tbody tr th:only-of-type {\n",
       "        vertical-align: middle;\n",
       "    }\n",
       "\n",
       "    .dataframe tbody tr th {\n",
       "        vertical-align: top;\n",
       "    }\n",
       "\n",
       "    .dataframe thead th {\n",
       "        text-align: right;\n",
       "    }\n",
       "</style>\n",
       "<table border=\"1\" class=\"dataframe\">\n",
       "  <thead>\n",
       "    <tr style=\"text-align: right;\">\n",
       "      <th></th>\n",
       "      <th>Name_length</th>\n",
       "      <th>AdoptionSpeed</th>\n",
       "    </tr>\n",
       "  </thead>\n",
       "  <tbody>\n",
       "    <tr>\n",
       "      <th>Name_length</th>\n",
       "      <td>1.000000</td>\n",
       "      <td>-0.003262</td>\n",
       "    </tr>\n",
       "    <tr>\n",
       "      <th>AdoptionSpeed</th>\n",
       "      <td>-0.003262</td>\n",
       "      <td>1.000000</td>\n",
       "    </tr>\n",
       "  </tbody>\n",
       "</table>\n",
       "</div>"
      ],
      "text/plain": [
       "               Name_length  AdoptionSpeed\n",
       "Name_length       1.000000      -0.003262\n",
       "AdoptionSpeed    -0.003262       1.000000"
      ]
     },
     "execution_count": 36,
     "metadata": {},
     "output_type": "execute_result"
    }
   ],
   "source": [
    "train[['Name_length', 'AdoptionSpeed']].corr()"
   ]
  },
  {
   "cell_type": "code",
   "execution_count": 37,
   "id": "3a2b1fee",
   "metadata": {
    "execution": {
     "iopub.execute_input": "2025-07-26T17:21:10.297487Z",
     "iopub.status.busy": "2025-07-26T17:21:10.297234Z",
     "iopub.status.idle": "2025-07-26T17:21:10.305562Z",
     "shell.execute_reply": "2025-07-26T17:21:10.304947Z"
    },
    "papermill": {
     "duration": 0.02649,
     "end_time": "2025-07-26T17:21:10.306833",
     "exception": false,
     "start_time": "2025-07-26T17:21:10.280343",
     "status": "completed"
    },
    "tags": []
   },
   "outputs": [],
   "source": [
    "train.drop('Name_length', axis=1, inplace=True)\n",
    "test.drop('Name_length', axis=1, inplace=True)"
   ]
  },
  {
   "cell_type": "code",
   "execution_count": 38,
   "id": "11e63480",
   "metadata": {
    "execution": {
     "iopub.execute_input": "2025-07-26T17:21:10.339208Z",
     "iopub.status.busy": "2025-07-26T17:21:10.338917Z",
     "iopub.status.idle": "2025-07-26T17:21:10.344513Z",
     "shell.execute_reply": "2025-07-26T17:21:10.343896Z"
    },
    "papermill": {
     "duration": 0.022468,
     "end_time": "2025-07-26T17:21:10.345535",
     "exception": false,
     "start_time": "2025-07-26T17:21:10.323067",
     "status": "completed"
    },
    "tags": []
   },
   "outputs": [],
   "source": [
    "train['Mixed_Breed'] = (train['Breed1'] != train['Breed2']).astype(int)\n",
    "test['Mixed_Breed'] = (test['Breed1'] != test['Breed2']).astype(int)"
   ]
  },
  {
   "cell_type": "code",
   "execution_count": 39,
   "id": "497adc53",
   "metadata": {
    "execution": {
     "iopub.execute_input": "2025-07-26T17:21:10.376306Z",
     "iopub.status.busy": "2025-07-26T17:21:10.376058Z",
     "iopub.status.idle": "2025-07-26T17:21:10.382734Z",
     "shell.execute_reply": "2025-07-26T17:21:10.382180Z"
    },
    "papermill": {
     "duration": 0.023257,
     "end_time": "2025-07-26T17:21:10.383829",
     "exception": false,
     "start_time": "2025-07-26T17:21:10.360572",
     "status": "completed"
    },
    "tags": []
   },
   "outputs": [
    {
     "data": {
      "text/plain": [
       "Mixed_Breed\n",
       "1    13478\n",
       "0     1510\n",
       "Name: count, dtype: int64"
      ]
     },
     "execution_count": 39,
     "metadata": {},
     "output_type": "execute_result"
    }
   ],
   "source": [
    "train['Mixed_Breed'].value_counts()"
   ]
  },
  {
   "cell_type": "code",
   "execution_count": 40,
   "id": "de87e08a",
   "metadata": {
    "execution": {
     "iopub.execute_input": "2025-07-26T17:21:10.416455Z",
     "iopub.status.busy": "2025-07-26T17:21:10.416176Z",
     "iopub.status.idle": "2025-07-26T17:21:10.501796Z",
     "shell.execute_reply": "2025-07-26T17:21:10.501088Z"
    },
    "papermill": {
     "duration": 0.10331,
     "end_time": "2025-07-26T17:21:10.503232",
     "exception": false,
     "start_time": "2025-07-26T17:21:10.399922",
     "status": "completed"
    },
    "tags": []
   },
   "outputs": [],
   "source": [
    "train['ColorCombo'] = train[['Color1', 'Color2', 'Color3']].astype(str).apply('_'.join, axis=1)\n",
    "test['ColorCombo'] = test[['Color1', 'Color2', 'Color3']].astype(str).apply('_'.join, axis=1)"
   ]
  },
  {
   "cell_type": "code",
   "execution_count": 41,
   "id": "3ca71d68",
   "metadata": {
    "execution": {
     "iopub.execute_input": "2025-07-26T17:21:10.536179Z",
     "iopub.status.busy": "2025-07-26T17:21:10.535680Z",
     "iopub.status.idle": "2025-07-26T17:21:10.988219Z",
     "shell.execute_reply": "2025-07-26T17:21:10.987640Z"
    },
    "papermill": {
     "duration": 0.469995,
     "end_time": "2025-07-26T17:21:10.989585",
     "exception": false,
     "start_time": "2025-07-26T17:21:10.519590",
     "status": "completed"
    },
    "tags": []
   },
   "outputs": [
    {
     "data": {
      "text/plain": [
       "<matplotlib.legend.Legend at 0x7b9cb426cf90>"
      ]
     },
     "execution_count": 41,
     "metadata": {},
     "output_type": "execute_result"
    },
    {
     "data": {
      "image/png": "[encoded data removed]",
      "text/plain": [
       "<Figure size 1500x800 with 1 Axes>"
      ]
     },
     "metadata": {},
     "output_type": "display_data"
    }
   ],
   "source": [
    "plt.figure(figsize=(15, 8))\n",
    "sns.countplot(y='StateName', hue='AdoptionSpeed', data=train, palette='viridis')\n",
    "plt.title('AdoptionSpeed by State')\n",
    "plt.legend(bbox_to_anchor=(1.05, 1), loc='upper left')"
   ]
  },
  {
   "cell_type": "markdown",
   "id": "5014c75e",
   "metadata": {
    "papermill": {
     "duration": 0.017114,
     "end_time": "2025-07-26T17:21:11.024312",
     "exception": false,
     "start_time": "2025-07-26T17:21:11.007198",
     "status": "completed"
    },
    "tags": []
   },
   "source": [
    "## Bringing the Images into Play"
   ]
  },
  {
   "cell_type": "code",
   "execution_count": 42,
   "id": "b92b0b8b",
   "metadata": {
    "execution": {
     "iopub.execute_input": "2025-07-26T17:21:11.060421Z",
     "iopub.status.busy": "2025-07-26T17:21:11.059702Z",
     "iopub.status.idle": "2025-07-26T17:21:14.829848Z",
     "shell.execute_reply": "2025-07-26T17:21:14.829257Z"
    },
    "papermill": {
     "duration": 3.789833,
     "end_time": "2025-07-26T17:21:14.831229",
     "exception": false,
     "start_time": "2025-07-26T17:21:11.041396",
     "status": "completed"
    },
    "tags": []
   },
   "outputs": [
    {
     "name": "stderr",
     "output_type": "stream",
     "text": [
      "I0000 00:00:1753550471.739816      19 gpu_device.cc:2022] Created device /job:localhost/replica:0/task:0/device:GPU:0 with 15513 MB memory:  -> device: 0, name: Tesla P100-PCIE-16GB, pci bus id: 0000:00:04.0, compute capability: 6.0\n"
     ]
    },
    {
     "name": "stdout",
     "output_type": "stream",
     "text": [
      "Downloading data from https://storage.googleapis.com/tensorflow/keras-applications/resnet/resnet50_weights_tf_dim_ordering_tf_kernels_notop.h5\n",
      "\u001b[1m94765736/94765736\u001b[0m \u001b[32m━━━━━━━━━━━━━━━━━━━━\u001b[0m\u001b[37m\u001b[0m \u001b[1m0s\u001b[0m 0us/step\n"
     ]
    }
   ],
   "source": [
    "model = ResNet50(weights='imagenet', include_top=False, pooling='avg')"
   ]
  },
  {
   "cell_type": "code",
   "execution_count": 43,
   "id": "2f0aae59",
   "metadata": {
    "execution": {
     "iopub.execute_input": "2025-07-26T17:21:14.865487Z",
     "iopub.status.busy": "2025-07-26T17:21:14.864911Z",
     "iopub.status.idle": "2025-07-26T17:21:14.869564Z",
     "shell.execute_reply": "2025-07-26T17:21:14.869007Z"
    },
    "papermill": {
     "duration": 0.022681,
     "end_time": "2025-07-26T17:21:14.870652",
     "exception": false,
     "start_time": "2025-07-26T17:21:14.847971",
     "status": "completed"
    },
    "tags": []
   },
   "outputs": [],
   "source": [
    "def extract_features(image_path):\n",
    "    if pd.isna(image_path) or image_path is None:\n",
    "        return np.zeros(2048)\n",
    "    try:\n",
    "        img = image.load_img(image_path, target_size=(224, 224))\n",
    "        x = image.img_to_array(img)\n",
    "        x = np.expand_dims(x, axis=0)\n",
    "        x = preprocess_input(x)\n",
    "        return model.predict(x, verbose=0).flatten()\n",
    "    except Exception as e:\n",
    "        print(f\"Error processing {image_path}: {str(e)}\")\n",
    "        return np.zeroes(2048)"
   ]
  },
  {
   "cell_type": "code",
   "execution_count": 44,
   "id": "05968cda",
   "metadata": {
    "execution": {
     "iopub.execute_input": "2025-07-26T17:21:14.905240Z",
     "iopub.status.busy": "2025-07-26T17:21:14.904324Z",
     "iopub.status.idle": "2025-07-26T17:21:14.908631Z",
     "shell.execute_reply": "2025-07-26T17:21:14.908064Z"
    },
    "papermill": {
     "duration": 0.022655,
     "end_time": "2025-07-26T17:21:14.909667",
     "exception": false,
     "start_time": "2025-07-26T17:21:14.887012",
     "status": "completed"
    },
    "tags": []
   },
   "outputs": [],
   "source": [
    "def find_image_path(pet_id, folder):\n",
    "    matches = glob(os.path.join(folder, f\"{pet_id}-*.jpg\"))\n",
    "    if matches:\n",
    "        return matches[0]\n",
    "    else:\n",
    "        return None"
   ]
  },
  {
   "cell_type": "code",
   "execution_count": 45,
   "id": "33fd6500",
   "metadata": {
    "execution": {
     "iopub.execute_input": "2025-07-26T17:21:14.945259Z",
     "iopub.status.busy": "2025-07-26T17:21:14.944629Z",
     "iopub.status.idle": "2025-07-26T17:21:14.948482Z",
     "shell.execute_reply": "2025-07-26T17:21:14.947968Z"
    },
    "papermill": {
     "duration": 0.023296,
     "end_time": "2025-07-26T17:21:14.949603",
     "exception": false,
     "start_time": "2025-07-26T17:21:14.926307",
     "status": "completed"
    },
    "tags": []
   },
   "outputs": [],
   "source": [
    "def build_image_dict(folder):\n",
    "    image_dict = defaultdict(list)\n",
    "    for f in Path(folder).glob(\"*-*.jpg\"):\n",
    "        pet_id = f.name.split('-')[0]\n",
    "        image_dict[pet_id].append(str(f))\n",
    "    return image_dict"
   ]
  },
  {
   "cell_type": "code",
   "execution_count": 46,
   "id": "fb645f1c",
   "metadata": {
    "execution": {
     "iopub.execute_input": "2025-07-26T17:21:14.983108Z",
     "iopub.status.busy": "2025-07-26T17:21:14.982773Z",
     "iopub.status.idle": "2025-07-26T17:21:15.665857Z",
     "shell.execute_reply": "2025-07-26T17:21:15.665242Z"
    },
    "papermill": {
     "duration": 0.701148,
     "end_time": "2025-07-26T17:21:15.667200",
     "exception": false,
     "start_time": "2025-07-26T17:21:14.966052",
     "status": "completed"
    },
    "tags": []
   },
   "outputs": [],
   "source": [
    "train_dict = build_image_dict('/kaggle/input/petfinder-adoption-prediction/train_images')\n",
    "train['image_path'] = train['PetID'].map(lambda x: train_dict.get(x, [None])[0])"
   ]
  },
  {
   "cell_type": "code",
   "execution_count": 47,
   "id": "189fd980",
   "metadata": {
    "execution": {
     "iopub.execute_input": "2025-07-26T17:21:15.702462Z",
     "iopub.status.busy": "2025-07-26T17:21:15.701865Z",
     "iopub.status.idle": "2025-07-26T17:21:15.918749Z",
     "shell.execute_reply": "2025-07-26T17:21:15.917933Z"
    },
    "papermill": {
     "duration": 0.235981,
     "end_time": "2025-07-26T17:21:15.920160",
     "exception": false,
     "start_time": "2025-07-26T17:21:15.684179",
     "status": "completed"
    },
    "tags": []
   },
   "outputs": [],
   "source": [
    "test_dict = build_image_dict('/kaggle/input/petfinder-adoption-prediction/test_images')\n",
    "test['image_path'] = test['PetID'].map(lambda x: test_dict.get(x, [None])[0])"
   ]
  },
  {
   "cell_type": "code",
   "execution_count": 48,
   "id": "4c045276",
   "metadata": {
    "execution": {
     "iopub.execute_input": "2025-07-26T17:21:15.956339Z",
     "iopub.status.busy": "2025-07-26T17:21:15.956085Z",
     "iopub.status.idle": "2025-07-26T17:44:11.731892Z",
     "shell.execute_reply": "2025-07-26T17:44:11.731184Z"
    },
    "papermill": {
     "duration": 1375.796524,
     "end_time": "2025-07-26T17:44:11.733476",
     "exception": false,
     "start_time": "2025-07-26T17:21:15.936952",
     "status": "completed"
    },
    "tags": []
   },
   "outputs": [
    {
     "name": "stderr",
     "output_type": "stream",
     "text": [
      "WARNING: All log messages before absl::InitializeLog() is called are written to STDERR\n",
      "I0000 00:00:1753550478.951269      63 service.cc:148] XLA service 0x7b9bfc003bb0 initialized for platform CUDA (this does not guarantee that XLA will be used). Devices:\n",
      "I0000 00:00:1753550478.952089      63 service.cc:156]   StreamExecutor device (0): Tesla P100-PCIE-16GB, Compute Capability 6.0\n",
      "I0000 00:00:1753550479.585941      63 cuda_dnn.cc:529] Loaded cuDNN version 90300\n",
      "I0000 00:00:1753550481.808331      63 device_compiler.h:188] Compiled cluster using XLA!  This line is logged at most once for the lifetime of the process.\n"
     ]
    }
   ],
   "source": [
    "image_features_train = np.array([extract_features(path) for path in train['image_path']])"
   ]
  },
  {
   "cell_type": "code",
   "execution_count": 49,
   "id": "96762429",
   "metadata": {
    "execution": {
     "iopub.execute_input": "2025-07-26T17:44:11.769419Z",
     "iopub.status.busy": "2025-07-26T17:44:11.769163Z",
     "iopub.status.idle": "2025-07-26T17:50:24.103331Z",
     "shell.execute_reply": "2025-07-26T17:50:24.102672Z"
    },
    "papermill": {
     "duration": 372.352972,
     "end_time": "2025-07-26T17:50:24.105039",
     "exception": false,
     "start_time": "2025-07-26T17:44:11.752067",
     "status": "completed"
    },
    "tags": []
   },
   "outputs": [],
   "source": [
    "image_features_test = np.array([extract_features(path) for path in test['image_path']])"
   ]
  },
  {
   "cell_type": "markdown",
   "id": "4bfc92ce",
   "metadata": {
    "papermill": {
     "duration": 0.016261,
     "end_time": "2025-07-26T17:50:24.138983",
     "exception": false,
     "start_time": "2025-07-26T17:50:24.122722",
     "status": "completed"
    },
    "tags": []
   },
   "source": [
    "## Involving Metadata"
   ]
  },
  {
   "cell_type": "code",
   "execution_count": 50,
   "id": "89099cde",
   "metadata": {
    "execution": {
     "iopub.execute_input": "2025-07-26T17:50:24.173247Z",
     "iopub.status.busy": "2025-07-26T17:50:24.172580Z",
     "iopub.status.idle": "2025-07-26T17:50:24.177014Z",
     "shell.execute_reply": "2025-07-26T17:50:24.176288Z"
    },
    "papermill": {
     "duration": 0.022632,
     "end_time": "2025-07-26T17:50:24.178100",
     "exception": false,
     "start_time": "2025-07-26T17:50:24.155468",
     "status": "completed"
    },
    "tags": []
   },
   "outputs": [],
   "source": [
    "def load_metadata(pet_id, metadata_folder):\n",
    "    metadata = []\n",
    "    json_files = glob(os.path.join(metdata_folder, f\"{pet_id}-*.json\"))\n",
    "    for file in json_files:\n",
    "        with open(file, 'r') as f:\n",
    "            metadata.append(json.load(F))\n",
    "    return metadata"
   ]
  },
  {
   "cell_type": "code",
   "execution_count": 51,
   "id": "d8ea46ff",
   "metadata": {
    "execution": {
     "iopub.execute_input": "2025-07-26T17:50:24.211618Z",
     "iopub.status.busy": "2025-07-26T17:50:24.211327Z",
     "iopub.status.idle": "2025-07-26T17:50:24.215599Z",
     "shell.execute_reply": "2025-07-26T17:50:24.215045Z"
    },
    "papermill": {
     "duration": 0.022281,
     "end_time": "2025-07-26T17:50:24.216739",
     "exception": false,
     "start_time": "2025-07-26T17:50:24.194458",
     "status": "completed"
    },
    "tags": []
   },
   "outputs": [],
   "source": [
    "def process_file(file):\n",
    "    try:\n",
    "        pet_id = Path(file).name.split('-')[0]\n",
    "        with open(file, 'r', encoding='utf-8') as f:\n",
    "            return pet_id, json.load(f)\n",
    "    except Exception as e:\n",
    "        print(f\"Error processing {file}: {str(e)}\")\n",
    "        return None"
   ]
  },
  {
   "cell_type": "code",
   "execution_count": 52,
   "id": "74b4f012",
   "metadata": {
    "execution": {
     "iopub.execute_input": "2025-07-26T17:50:24.250459Z",
     "iopub.status.busy": "2025-07-26T17:50:24.250230Z",
     "iopub.status.idle": "2025-07-26T17:50:24.255051Z",
     "shell.execute_reply": "2025-07-26T17:50:24.254530Z"
    },
    "papermill": {
     "duration": 0.022481,
     "end_time": "2025-07-26T17:50:24.256047",
     "exception": false,
     "start_time": "2025-07-26T17:50:24.233566",
     "status": "completed"
    },
    "tags": []
   },
   "outputs": [],
   "source": [
    "def build_metadata_dict(metadata_folder):\n",
    "    metadata_dict = defaultdict(list)\n",
    "    files = list(Path(metadata_folder).glob(\"*-*.json\"))\n",
    "    \n",
    "    print(f\"Found {len(files)} JSON files to process...\")\n",
    "    \n",
    "    with ThreadPoolExecutor(max_workers=4) as executor:\n",
    "        results = list(tqdm(\n",
    "            executor.map(process_file, files),\n",
    "            total=len(files),\n",
    "            desc=\"Processing JSONs\"\n",
    "        ))\n",
    "    \n",
    "    for result in results:\n",
    "        if result:  # Skip failed files\n",
    "            pet_id, data = result\n",
    "            metadata_dict[pet_id].append(data)\n",
    "    \n",
    "    print(f\"Processed {len(metadata_dict)} unique pets\")\n",
    "    return metadata_dict"
   ]
  },
  {
   "cell_type": "code",
   "execution_count": 53,
   "id": "13173f7f",
   "metadata": {
    "execution": {
     "iopub.execute_input": "2025-07-26T17:50:24.290090Z",
     "iopub.status.busy": "2025-07-26T17:50:24.289435Z",
     "iopub.status.idle": "2025-07-26T17:53:03.568177Z",
     "shell.execute_reply": "2025-07-26T17:53:03.567333Z"
    },
    "papermill": {
     "duration": 159.296912,
     "end_time": "2025-07-26T17:53:03.569522",
     "exception": false,
     "start_time": "2025-07-26T17:50:24.272610",
     "status": "completed"
    },
    "tags": []
   },
   "outputs": [
    {
     "name": "stdout",
     "output_type": "stream",
     "text": [
      "Found 58311 JSON files to process...\n"
     ]
    },
    {
     "data": {
      "application/vnd.jupyter.widget-view+json": {
       "model_id": "06e04e79d7234dc4bd490b42f8249fc8",
       "version_major": 2,
       "version_minor": 0
      },
      "text/plain": [
       "Processing JSONs:   0%|          | 0/58311 [00:00<?, ?it/s]"
      ]
     },
     "metadata": {},
     "output_type": "display_data"
    },
    {
     "name": "stdout",
     "output_type": "stream",
     "text": [
      "Processed 14652 unique pets\n",
      "Found 14465 JSON files to process...\n"
     ]
    },
    {
     "data": {
      "application/vnd.jupyter.widget-view+json": {
       "model_id": "2e53cb5447f94a90a0fb8394be9d6e9f",
       "version_major": 2,
       "version_minor": 0
      },
      "text/plain": [
       "Processing JSONs:   0%|          | 0/14465 [00:00<?, ?it/s]"
      ]
     },
     "metadata": {},
     "output_type": "display_data"
    },
    {
     "name": "stdout",
     "output_type": "stream",
     "text": [
      "Processed 3858 unique pets\n"
     ]
    }
   ],
   "source": [
    "train_metadata_dict = build_metadata_dict(\"/kaggle/input/petfinder-adoption-prediction/train_metadata\")\n",
    "test_metadata_dict = build_metadata_dict(\"/kaggle/input/petfinder-adoption-prediction/test_metadata\")"
   ]
  },
  {
   "cell_type": "code",
   "execution_count": 54,
   "id": "aa9913c6",
   "metadata": {
    "execution": {
     "iopub.execute_input": "2025-07-26T17:53:03.604627Z",
     "iopub.status.busy": "2025-07-26T17:53:03.604334Z",
     "iopub.status.idle": "2025-07-26T17:53:03.616082Z",
     "shell.execute_reply": "2025-07-26T17:53:03.615328Z"
    },
    "papermill": {
     "duration": 0.030534,
     "end_time": "2025-07-26T17:53:03.617180",
     "exception": false,
     "start_time": "2025-07-26T17:53:03.586646",
     "status": "completed"
    },
    "tags": []
   },
   "outputs": [],
   "source": [
    "def extract_animal_info(entries):\n",
    "    animal_data = []\n",
    "    for entry in entries:\n",
    "        for annotation in entry.get('labelAnnotations', []):\n",
    "            # Case-insensitive check for more animal types\n",
    "            if annotation['description'].lower() in ['cat', 'dog', 'kitten', 'puppy', 'feline', 'canine']:\n",
    "                animal_data.append({\n",
    "                    'detected_animal': annotation['description'],\n",
    "                    'animal_confidence': annotation['score']\n",
    "                })\n",
    "    return animal_data if animal_data else [{'detected_animal': 'unknown', 'animal_confidence': 0}]\n",
    "\n",
    "def extract_dominant_colors(entries):\n",
    "    color_info = []\n",
    "    for entry in entries:\n",
    "        colors = entry.get('imagePropertiesAnnotation', {}).get('dominantColors', {}).get('colors', [])\n",
    "        for color in colors[:3]:  # Top 3 colors\n",
    "            color_info.append({\n",
    "                'red': color['color'].get('red', 0),\n",
    "                'green': color['color'].get('green', 0),\n",
    "                'blue': color['color'].get('blue', 0),\n",
    "                'color_score': color['score']\n",
    "            })\n",
    "    # Return default gray if no colors found\n",
    "    return color_info if color_info else [{'red': 128, 'green': 128, 'blue': 128, 'color_score': 0}]\n",
    "\n",
    "\n",
    "def extract_crop_quality(entries):\n",
    "    crop_scores = []\n",
    "    for entry in entries:\n",
    "        crops = entry.get('cropHintsAnnotation', {}).get('cropHints', [])\n",
    "        if crops:\n",
    "            crop_scores.append(crops[0].get('confidence', 0))\n",
    "    return sum(crop_scores)/len(crop_scores) if crop_scores else 0\n",
    "\n",
    "def extract_all_metadata_features(metadata_dict):\n",
    "    features = {}\n",
    "    for pet_id, entries in metadata_dict.items():\n",
    "        # Skip if no entries exist for this pet\n",
    "        if not entries:\n",
    "            features[pet_id] = {\n",
    "                'primary_animal': 'unknown',\n",
    "                'avg_animal_confidence': 0,\n",
    "                'dominant_red': 128,\n",
    "                'dominant_green': 128,\n",
    "                'dominant_blue': 128,\n",
    "                'crop_confidence': 0,\n",
    "                'num_labels': 0\n",
    "            }\n",
    "            continue\n",
    "            \n",
    "        try:\n",
    "            animal_info = extract_animal_info(entries)\n",
    "            color_info = extract_dominant_colors(entries)\n",
    "            \n",
    "            features[pet_id] = {\n",
    "                # Animal detection\n",
    "                'primary_animal': animal_info[0]['detected_animal'],\n",
    "                'avg_animal_confidence': np.nanmean([a['animal_confidence'] for a in animal_info]),\n",
    "                \n",
    "                # Color analysis\n",
    "                'dominant_red': color_info[0]['red'],\n",
    "                'dominant_green': color_info[0]['green'],\n",
    "                'dominant_blue': color_info[0]['blue'],\n",
    "                'avg_color_score': np.nanmean([c['color_score'] for c in color_info]),\n",
    "                \n",
    "                # Image quality\n",
    "                'crop_confidence': extract_crop_quality(entries),\n",
    "                \n",
    "                # Additional metrics (safe division)\n",
    "                'num_labels': sum(len(e.get('labelAnnotations', [])) for e in entries)/max(1, len(entries))\n",
    "            }\n",
    "        except Exception as e:\n",
    "            print(f\"Error processing {pet_id}: {str(e)}\")\n",
    "            features[pet_id] = {\n",
    "                'primary_animal': 'error',\n",
    "                'avg_animal_confidence': 0,\n",
    "                'dominant_red': 128,\n",
    "                'dominant_green': 128,\n",
    "                'dominant_blue': 128,\n",
    "                'avg_color_score': 0,\n",
    "                'crop_confidence': 0,\n",
    "                'num_labels': 0\n",
    "            }\n",
    "    \n",
    "    return pd.DataFrame.from_dict(features, orient='index').fillna(0)"
   ]
  },
  {
   "cell_type": "code",
   "execution_count": 55,
   "id": "bbd2399c",
   "metadata": {
    "execution": {
     "iopub.execute_input": "2025-07-26T17:53:03.651425Z",
     "iopub.status.busy": "2025-07-26T17:53:03.651161Z",
     "iopub.status.idle": "2025-07-26T17:53:05.197441Z",
     "shell.execute_reply": "2025-07-26T17:53:05.196783Z"
    },
    "papermill": {
     "duration": 1.564728,
     "end_time": "2025-07-26T17:53:05.198846",
     "exception": false,
     "start_time": "2025-07-26T17:53:03.634118",
     "status": "completed"
    },
    "tags": []
   },
   "outputs": [],
   "source": [
    "metadata_features_train = extract_all_metadata_features(train_metadata_dict)"
   ]
  },
  {
   "cell_type": "code",
   "execution_count": 56,
   "id": "2aaec2f0",
   "metadata": {
    "execution": {
     "iopub.execute_input": "2025-07-26T17:53:05.233600Z",
     "iopub.status.busy": "2025-07-26T17:53:05.233310Z",
     "iopub.status.idle": "2025-07-26T17:53:05.637334Z",
     "shell.execute_reply": "2025-07-26T17:53:05.636763Z"
    },
    "papermill": {
     "duration": 0.422756,
     "end_time": "2025-07-26T17:53:05.638739",
     "exception": false,
     "start_time": "2025-07-26T17:53:05.215983",
     "status": "completed"
    },
    "tags": []
   },
   "outputs": [],
   "source": [
    "metadata_features_test = extract_all_metadata_features(test_metadata_dict)"
   ]
  },
  {
   "cell_type": "code",
   "execution_count": 57,
   "id": "31737ba1",
   "metadata": {
    "execution": {
     "iopub.execute_input": "2025-07-26T17:53:05.674020Z",
     "iopub.status.busy": "2025-07-26T17:53:05.673742Z",
     "iopub.status.idle": "2025-07-26T17:53:05.679182Z",
     "shell.execute_reply": "2025-07-26T17:53:05.678451Z"
    },
    "papermill": {
     "duration": 0.024326,
     "end_time": "2025-07-26T17:53:05.680249",
     "exception": false,
     "start_time": "2025-07-26T17:53:05.655923",
     "status": "completed"
    },
    "tags": []
   },
   "outputs": [],
   "source": [
    "image_features_df = pd.DataFrame(image_features_train, index=train['PetID'], columns=[f'img_{i}' for i in range(image_features_train.shape[1])])"
   ]
  },
  {
   "cell_type": "code",
   "execution_count": 58,
   "id": "887dfd4c",
   "metadata": {
    "execution": {
     "iopub.execute_input": "2025-07-26T17:53:05.714799Z",
     "iopub.status.busy": "2025-07-26T17:53:05.714534Z",
     "iopub.status.idle": "2025-07-26T17:53:05.719856Z",
     "shell.execute_reply": "2025-07-26T17:53:05.719301Z"
    },
    "papermill": {
     "duration": 0.023676,
     "end_time": "2025-07-26T17:53:05.720855",
     "exception": false,
     "start_time": "2025-07-26T17:53:05.697179",
     "status": "completed"
    },
    "tags": []
   },
   "outputs": [],
   "source": [
    "image_features_df_test = pd.DataFrame(image_features_test, index=test['PetID'], columns=[f'img_{i}' for i in range(image_features_test.shape[1])])"
   ]
  },
  {
   "cell_type": "code",
   "execution_count": 59,
   "id": "08ff8bda",
   "metadata": {
    "execution": {
     "iopub.execute_input": "2025-07-26T17:53:05.755244Z",
     "iopub.status.busy": "2025-07-26T17:53:05.754946Z",
     "iopub.status.idle": "2025-07-26T17:53:05.765233Z",
     "shell.execute_reply": "2025-07-26T17:53:05.764420Z"
    },
    "papermill": {
     "duration": 0.028762,
     "end_time": "2025-07-26T17:53:05.766374",
     "exception": false,
     "start_time": "2025-07-26T17:53:05.737612",
     "status": "completed"
    },
    "tags": []
   },
   "outputs": [],
   "source": [
    "metadata_features_train = metadata_features_train.reset_index().rename(columns={'index':'PetID'})"
   ]
  },
  {
   "cell_type": "code",
   "execution_count": 60,
   "id": "cbde19cb",
   "metadata": {
    "execution": {
     "iopub.execute_input": "2025-07-26T17:53:05.801761Z",
     "iopub.status.busy": "2025-07-26T17:53:05.801051Z",
     "iopub.status.idle": "2025-07-26T17:53:05.808060Z",
     "shell.execute_reply": "2025-07-26T17:53:05.807544Z"
    },
    "papermill": {
     "duration": 0.025709,
     "end_time": "2025-07-26T17:53:05.809219",
     "exception": false,
     "start_time": "2025-07-26T17:53:05.783510",
     "status": "completed"
    },
    "tags": []
   },
   "outputs": [],
   "source": [
    "metadata_features_test = metadata_features_test.reset_index().rename(columns={'index':'PetID'})"
   ]
  },
  {
   "cell_type": "code",
   "execution_count": 61,
   "id": "ac57656a",
   "metadata": {
    "execution": {
     "iopub.execute_input": "2025-07-26T17:53:05.843855Z",
     "iopub.status.busy": "2025-07-26T17:53:05.843584Z",
     "iopub.status.idle": "2025-07-26T17:53:06.252458Z",
     "shell.execute_reply": "2025-07-26T17:53:06.251602Z"
    },
    "papermill": {
     "duration": 0.428115,
     "end_time": "2025-07-26T17:53:06.254243",
     "exception": false,
     "start_time": "2025-07-26T17:53:05.826128",
     "status": "completed"
    },
    "tags": []
   },
   "outputs": [],
   "source": [
    "df_train = (train.merge(metadata_features_train, on='PetID', how='left').merge(image_features_df, left_on='PetID', right_index=True, how='left'))"
   ]
  },
  {
   "cell_type": "code",
   "execution_count": 62,
   "id": "baee18cb",
   "metadata": {
    "execution": {
     "iopub.execute_input": "2025-07-26T17:53:06.289364Z",
     "iopub.status.busy": "2025-07-26T17:53:06.289070Z",
     "iopub.status.idle": "2025-07-26T17:53:06.401773Z",
     "shell.execute_reply": "2025-07-26T17:53:06.400883Z"
    },
    "papermill": {
     "duration": 0.131708,
     "end_time": "2025-07-26T17:53:06.403236",
     "exception": false,
     "start_time": "2025-07-26T17:53:06.271528",
     "status": "completed"
    },
    "tags": []
   },
   "outputs": [],
   "source": [
    "df_test = (test.merge(metadata_features_test, on='PetID', how='left').merge(image_features_df_test, left_on='PetID', right_index=True, how='left'))"
   ]
  },
  {
   "cell_type": "markdown",
   "id": "1b525772",
   "metadata": {
    "papermill": {
     "duration": 0.016442,
     "end_time": "2025-07-26T17:53:06.437342",
     "exception": false,
     "start_time": "2025-07-26T17:53:06.420900",
     "status": "completed"
    },
    "tags": []
   },
   "source": [
    "## Train Test Split"
   ]
  },
  {
   "cell_type": "code",
   "execution_count": 63,
   "id": "1e2ef73a",
   "metadata": {
    "execution": {
     "iopub.execute_input": "2025-07-26T17:53:06.471952Z",
     "iopub.status.busy": "2025-07-26T17:53:06.471667Z",
     "iopub.status.idle": "2025-07-26T17:53:06.835015Z",
     "shell.execute_reply": "2025-07-26T17:53:06.834330Z"
    },
    "papermill": {
     "duration": 0.382331,
     "end_time": "2025-07-26T17:53:06.836401",
     "exception": false,
     "start_time": "2025-07-26T17:53:06.454070",
     "status": "completed"
    },
    "tags": []
   },
   "outputs": [],
   "source": [
    "X = df_train.drop(['RescuerID', 'image_path', 'Description', 'StateName', 'BreedName', 'ColorName',\n",
    "                   'AdoptionSpeed', 'Name', 'PetID', 'ColorCombo', 'primary_animal', 'Mixed_Breed'],\n",
    "                  axis=1)\n",
    "y = df_train['AdoptionSpeed']\n",
    "\n",
    "# Drop rows where X has NaN and ensure y aligns\n",
    "nan_mask = X.isnull().any(axis=1)\n",
    "X_clean = X[~nan_mask]\n",
    "y_clean = y[~nan_mask]  \n",
    "\n",
    "X_train, X_test, y_train, y_test = train_test_split(X_clean, y_clean, test_size=0.25, random_state=42)"
   ]
  },
  {
   "cell_type": "markdown",
   "id": "fb0f9e1a",
   "metadata": {
    "papermill": {
     "duration": 0.018055,
     "end_time": "2025-07-26T17:53:06.871523",
     "exception": false,
     "start_time": "2025-07-26T17:53:06.853468",
     "status": "completed"
    },
    "tags": []
   },
   "source": [
    "## Training a XGBosst Model"
   ]
  },
  {
   "cell_type": "code",
   "execution_count": 64,
   "id": "0caa786b",
   "metadata": {
    "execution": {
     "iopub.execute_input": "2025-07-26T17:53:06.905448Z",
     "iopub.status.busy": "2025-07-26T17:53:06.905173Z",
     "iopub.status.idle": "2025-07-26T17:54:30.971313Z",
     "shell.execute_reply": "2025-07-26T17:54:30.970372Z"
    },
    "papermill": {
     "duration": 84.100115,
     "end_time": "2025-07-26T17:54:30.988073",
     "exception": false,
     "start_time": "2025-07-26T17:53:06.887958",
     "status": "completed"
    },
    "tags": []
   },
   "outputs": [
    {
     "name": "stdout",
     "output_type": "stream",
     "text": [
      "[[  0  35  41   8  15]\n",
      " [  0 201 313  70 148]\n",
      " [  0 181 443 137 272]\n",
      " [  0 115 283 142 243]\n",
      " [  0  92 196  78 649]]\n",
      "\n",
      "\n",
      "              precision    recall  f1-score   support\n",
      "\n",
      "           0       0.00      0.00      0.00        99\n",
      "           1       0.32      0.27      0.30       732\n",
      "           2       0.35      0.43      0.38      1033\n",
      "           3       0.33      0.18      0.23       783\n",
      "           4       0.49      0.64      0.55      1015\n",
      "\n",
      "    accuracy                           0.39      3662\n",
      "   macro avg       0.30      0.30      0.29      3662\n",
      "weighted avg       0.37      0.39      0.37      3662\n",
      "\n"
     ]
    }
   ],
   "source": [
    "xgb_model = XGBClassifier(\n",
    "    n_estimators=100,\n",
    "    learning_rate=0.1,\n",
    "    max_depth=4,\n",
    "    subsample=0.8,\n",
    "    colsample_bytree=0.8,\n",
    "    use_label_encoder=False,\n",
    "    eval_metric='logloss'\n",
    ")\n",
    "\n",
    "xgb_model.fit(X_train, y_train)\n",
    "\n",
    "xgb_predictions = xgb_model.predict(X_test)\n",
    "\n",
    "print(confusion_matrix(y_test,xgb_predictions))\n",
    "print('\\n')\n",
    "print(classification_report(y_test,xgb_predictions))"
   ]
  },
  {
   "cell_type": "markdown",
   "id": "bde483d3",
   "metadata": {
    "papermill": {
     "duration": 0.016996,
     "end_time": "2025-07-26T17:54:31.022179",
     "exception": false,
     "start_time": "2025-07-26T17:54:31.005183",
     "status": "completed"
    },
    "tags": []
   },
   "source": [
    "## Training a Random Forest Model"
   ]
  },
  {
   "cell_type": "code",
   "execution_count": 65,
   "id": "50c9397f",
   "metadata": {
    "execution": {
     "iopub.execute_input": "2025-07-26T17:54:31.057169Z",
     "iopub.status.busy": "2025-07-26T17:54:31.056888Z",
     "iopub.status.idle": "2025-07-26T17:55:16.558340Z",
     "shell.execute_reply": "2025-07-26T17:55:16.557543Z"
    },
    "papermill": {
     "duration": 45.53774,
     "end_time": "2025-07-26T17:55:16.576644",
     "exception": false,
     "start_time": "2025-07-26T17:54:31.038904",
     "status": "completed"
    },
    "tags": []
   },
   "outputs": [
    {
     "name": "stdout",
     "output_type": "stream",
     "text": [
      "[[  0  29  43   5  22]\n",
      " [  0 179 284  86 183]\n",
      " [  0 154 446 121 312]\n",
      " [  0 110 303 116 254]\n",
      " [  0  94 268 118 535]]\n",
      "\n",
      "\n",
      "              precision    recall  f1-score   support\n",
      "\n",
      "           0       0.00      0.00      0.00        99\n",
      "           1       0.32      0.24      0.28       732\n",
      "           2       0.33      0.43      0.38      1033\n",
      "           3       0.26      0.15      0.19       783\n",
      "           4       0.41      0.53      0.46      1015\n",
      "\n",
      "    accuracy                           0.35      3662\n",
      "   macro avg       0.26      0.27      0.26      3662\n",
      "weighted avg       0.33      0.35      0.33      3662\n",
      "\n"
     ]
    }
   ],
   "source": [
    "rf_model = RandomForestClassifier(n_estimators=100)\n",
    "\n",
    "rf_model.fit(X_train, y_train)\n",
    "\n",
    "rf_predictions = rf_model.predict(X_test)\n",
    "\n",
    "print(confusion_matrix(y_test,rf_predictions))\n",
    "print('\\n')\n",
    "print(classification_report(y_test,rf_predictions))"
   ]
  },
  {
   "cell_type": "markdown",
   "id": "3236ab97",
   "metadata": {
    "papermill": {
     "duration": 0.016669,
     "end_time": "2025-07-26T17:55:16.610265",
     "exception": false,
     "start_time": "2025-07-26T17:55:16.593596",
     "status": "completed"
    },
    "tags": []
   },
   "source": [
    "## Training a NN Model"
   ]
  },
  {
   "cell_type": "code",
   "execution_count": 66,
   "id": "68e38f60",
   "metadata": {
    "execution": {
     "iopub.execute_input": "2025-07-26T17:55:16.645445Z",
     "iopub.status.busy": "2025-07-26T17:55:16.644879Z",
     "iopub.status.idle": "2025-07-26T17:55:48.774835Z",
     "shell.execute_reply": "2025-07-26T17:55:48.773999Z"
    },
    "papermill": {
     "duration": 32.149065,
     "end_time": "2025-07-26T17:55:48.776126",
     "exception": false,
     "start_time": "2025-07-26T17:55:16.627061",
     "status": "completed"
    },
    "tags": []
   },
   "outputs": [
    {
     "name": "stdout",
     "output_type": "stream",
     "text": [
      "Epoch 1/600\n",
      "\u001b[1m86/86\u001b[0m \u001b[32m━━━━━━━━━━━━━━━━━━━━\u001b[0m\u001b[37m\u001b[0m \u001b[1m14s\u001b[0m 64ms/step - accuracy: 0.2162 - loss: 1.9279 - val_accuracy: 0.2512 - val_loss: 1.5885\n",
      "Epoch 2/600\n",
      "\u001b[1m86/86\u001b[0m \u001b[32m━━━━━━━━━━━━━━━━━━━━\u001b[0m\u001b[37m\u001b[0m \u001b[1m0s\u001b[0m 5ms/step - accuracy: 0.2548 - loss: 1.7060 - val_accuracy: 0.2684 - val_loss: 1.5496\n",
      "Epoch 3/600\n",
      "\u001b[1m86/86\u001b[0m \u001b[32m━━━━━━━━━━━━━━━━━━━━\u001b[0m\u001b[37m\u001b[0m \u001b[1m0s\u001b[0m 5ms/step - accuracy: 0.2552 - loss: 1.6177 - val_accuracy: 0.2829 - val_loss: 1.5173\n",
      "Epoch 4/600\n",
      "\u001b[1m86/86\u001b[0m \u001b[32m━━━━━━━━━━━━━━━━━━━━\u001b[0m\u001b[37m\u001b[0m \u001b[1m0s\u001b[0m 5ms/step - accuracy: 0.2688 - loss: 1.5693 - val_accuracy: 0.3086 - val_loss: 1.4938\n",
      "Epoch 5/600\n",
      "\u001b[1m86/86\u001b[0m \u001b[32m━━━━━━━━━━━━━━━━━━━━\u001b[0m\u001b[37m\u001b[0m \u001b[1m0s\u001b[0m 5ms/step - accuracy: 0.2758 - loss: 1.5363 - val_accuracy: 0.3200 - val_loss: 1.4781\n",
      "Epoch 6/600\n",
      "\u001b[1m86/86\u001b[0m \u001b[32m━━━━━━━━━━━━━━━━━━━━\u001b[0m\u001b[37m\u001b[0m \u001b[1m0s\u001b[0m 5ms/step - accuracy: 0.2869 - loss: 1.5047 - val_accuracy: 0.3269 - val_loss: 1.4611\n",
      "Epoch 7/600\n",
      "\u001b[1m86/86\u001b[0m \u001b[32m━━━━━━━━━━━━━━━━━━━━\u001b[0m\u001b[37m\u001b[0m \u001b[1m0s\u001b[0m 5ms/step - accuracy: 0.2929 - loss: 1.4790 - val_accuracy: 0.3372 - val_loss: 1.4460\n",
      "Epoch 8/600\n",
      "\u001b[1m86/86\u001b[0m \u001b[32m━━━━━━━━━━━━━━━━━━━━\u001b[0m\u001b[37m\u001b[0m \u001b[1m0s\u001b[0m 5ms/step - accuracy: 0.3078 - loss: 1.4593 - val_accuracy: 0.3433 - val_loss: 1.4354\n",
      "Epoch 9/600\n",
      "\u001b[1m86/86\u001b[0m \u001b[32m━━━━━━━━━━━━━━━━━━━━\u001b[0m\u001b[37m\u001b[0m \u001b[1m0s\u001b[0m 5ms/step - accuracy: 0.3053 - loss: 1.4555 - val_accuracy: 0.3452 - val_loss: 1.4247\n",
      "Epoch 10/600\n",
      "\u001b[1m86/86\u001b[0m \u001b[32m━━━━━━━━━━━━━━━━━━━━\u001b[0m\u001b[37m\u001b[0m \u001b[1m0s\u001b[0m 5ms/step - accuracy: 0.3324 - loss: 1.4326 - val_accuracy: 0.3495 - val_loss: 1.4187\n",
      "Epoch 11/600\n",
      "\u001b[1m86/86\u001b[0m \u001b[32m━━━━━━━━━━━━━━━━━━━━\u001b[0m\u001b[37m\u001b[0m \u001b[1m0s\u001b[0m 5ms/step - accuracy: 0.3469 - loss: 1.4241 - val_accuracy: 0.3501 - val_loss: 1.4134\n",
      "Epoch 12/600\n",
      "\u001b[1m86/86\u001b[0m \u001b[32m━━━━━━━━━━━━━━━━━━━━\u001b[0m\u001b[37m\u001b[0m \u001b[1m0s\u001b[0m 5ms/step - accuracy: 0.3607 - loss: 1.4052 - val_accuracy: 0.3553 - val_loss: 1.4103\n",
      "Epoch 13/600\n",
      "\u001b[1m86/86\u001b[0m \u001b[32m━━━━━━━━━━━━━━━━━━━━\u001b[0m\u001b[37m\u001b[0m \u001b[1m0s\u001b[0m 5ms/step - accuracy: 0.3596 - loss: 1.3977 - val_accuracy: 0.3564 - val_loss: 1.4110\n",
      "Epoch 14/600\n",
      "\u001b[1m86/86\u001b[0m \u001b[32m━━━━━━━━━━━━━━━━━━━━\u001b[0m\u001b[37m\u001b[0m \u001b[1m0s\u001b[0m 5ms/step - accuracy: 0.3577 - loss: 1.3883 - val_accuracy: 0.3509 - val_loss: 1.4058\n",
      "Epoch 15/600\n",
      "\u001b[1m86/86\u001b[0m \u001b[32m━━━━━━━━━━━━━━━━━━━━\u001b[0m\u001b[37m\u001b[0m \u001b[1m0s\u001b[0m 5ms/step - accuracy: 0.3802 - loss: 1.3724 - val_accuracy: 0.3539 - val_loss: 1.4100\n",
      "Epoch 16/600\n",
      "\u001b[1m86/86\u001b[0m \u001b[32m━━━━━━━━━━━━━━━━━━━━\u001b[0m\u001b[37m\u001b[0m \u001b[1m0s\u001b[0m 5ms/step - accuracy: 0.3787 - loss: 1.3650 - val_accuracy: 0.3520 - val_loss: 1.4162\n",
      "Epoch 17/600\n",
      "\u001b[1m86/86\u001b[0m \u001b[32m━━━━━━━━━━━━━━━━━━━━\u001b[0m\u001b[37m\u001b[0m \u001b[1m0s\u001b[0m 5ms/step - accuracy: 0.3937 - loss: 1.3486 - val_accuracy: 0.3536 - val_loss: 1.4158\n",
      "Epoch 18/600\n",
      "\u001b[1m86/86\u001b[0m \u001b[32m━━━━━━━━━━━━━━━━━━━━\u001b[0m\u001b[37m\u001b[0m \u001b[1m0s\u001b[0m 5ms/step - accuracy: 0.4047 - loss: 1.3333 - val_accuracy: 0.3457 - val_loss: 1.4270\n",
      "Epoch 19/600\n",
      "\u001b[1m86/86\u001b[0m \u001b[32m━━━━━━━━━━━━━━━━━━━━\u001b[0m\u001b[37m\u001b[0m \u001b[1m0s\u001b[0m 5ms/step - accuracy: 0.4158 - loss: 1.3126 - val_accuracy: 0.3465 - val_loss: 1.4339\n",
      "Epoch 20/600\n",
      "\u001b[1m86/86\u001b[0m \u001b[32m━━━━━━━━━━━━━━━━━━━━\u001b[0m\u001b[37m\u001b[0m \u001b[1m0s\u001b[0m 5ms/step - accuracy: 0.4291 - loss: 1.3101 - val_accuracy: 0.3403 - val_loss: 1.4441\n",
      "Epoch 21/600\n",
      "\u001b[1m86/86\u001b[0m \u001b[32m━━━━━━━━━━━━━━━━━━━━\u001b[0m\u001b[37m\u001b[0m \u001b[1m0s\u001b[0m 5ms/step - accuracy: 0.4241 - loss: 1.2961 - val_accuracy: 0.3487 - val_loss: 1.4465\n",
      "Epoch 22/600\n",
      "\u001b[1m86/86\u001b[0m \u001b[32m━━━━━━━━━━━━━━━━━━━━\u001b[0m\u001b[37m\u001b[0m \u001b[1m0s\u001b[0m 5ms/step - accuracy: 0.4400 - loss: 1.2740 - val_accuracy: 0.3484 - val_loss: 1.4605\n",
      "Epoch 23/600\n",
      "\u001b[1m86/86\u001b[0m \u001b[32m━━━━━━━━━━━━━━━━━━━━\u001b[0m\u001b[37m\u001b[0m \u001b[1m0s\u001b[0m 5ms/step - accuracy: 0.4539 - loss: 1.2634 - val_accuracy: 0.3424 - val_loss: 1.4739\n",
      "Epoch 24/600\n",
      "\u001b[1m86/86\u001b[0m \u001b[32m━━━━━━━━━━━━━━━━━━━━\u001b[0m\u001b[37m\u001b[0m \u001b[1m0s\u001b[0m 5ms/step - accuracy: 0.4631 - loss: 1.2350 - val_accuracy: 0.3468 - val_loss: 1.4741\n",
      "Epoch 25/600\n",
      "\u001b[1m86/86\u001b[0m \u001b[32m━━━━━━━━━━━━━━━━━━━━\u001b[0m\u001b[37m\u001b[0m \u001b[1m0s\u001b[0m 5ms/step - accuracy: 0.4600 - loss: 1.2228 - val_accuracy: 0.3463 - val_loss: 1.4926\n",
      "Epoch 26/600\n",
      "\u001b[1m86/86\u001b[0m \u001b[32m━━━━━━━━━━━━━━━━━━━━\u001b[0m\u001b[37m\u001b[0m \u001b[1m0s\u001b[0m 5ms/step - accuracy: 0.4801 - loss: 1.2136 - val_accuracy: 0.3512 - val_loss: 1.5000\n",
      "Epoch 27/600\n",
      "\u001b[1m86/86\u001b[0m \u001b[32m━━━━━━━━━━━━━━━━━━━━\u001b[0m\u001b[37m\u001b[0m \u001b[1m0s\u001b[0m 5ms/step - accuracy: 0.4914 - loss: 1.1892 - val_accuracy: 0.3438 - val_loss: 1.5055\n",
      "Epoch 28/600\n",
      "\u001b[1m86/86\u001b[0m \u001b[32m━━━━━━━━━━━━━━━━━━━━\u001b[0m\u001b[37m\u001b[0m \u001b[1m0s\u001b[0m 5ms/step - accuracy: 0.4870 - loss: 1.1602 - val_accuracy: 0.3342 - val_loss: 1.5397\n",
      "Epoch 29/600\n",
      "\u001b[1m86/86\u001b[0m \u001b[32m━━━━━━━━━━━━━━━━━━━━\u001b[0m\u001b[37m\u001b[0m \u001b[1m0s\u001b[0m 5ms/step - accuracy: 0.4969 - loss: 1.1566 - val_accuracy: 0.3326 - val_loss: 1.5436\n",
      "Epoch 30/600\n",
      "\u001b[1m86/86\u001b[0m \u001b[32m━━━━━━━━━━━━━━━━━━━━\u001b[0m\u001b[37m\u001b[0m \u001b[1m0s\u001b[0m 5ms/step - accuracy: 0.5184 - loss: 1.1435 - val_accuracy: 0.3389 - val_loss: 1.5613\n",
      "Epoch 31/600\n",
      "\u001b[1m86/86\u001b[0m \u001b[32m━━━━━━━━━━━━━━━━━━━━\u001b[0m\u001b[37m\u001b[0m \u001b[1m0s\u001b[0m 5ms/step - accuracy: 0.5164 - loss: 1.1259 - val_accuracy: 0.3372 - val_loss: 1.5655\n",
      "Epoch 32/600\n",
      "\u001b[1m86/86\u001b[0m \u001b[32m━━━━━━━━━━━━━━━━━━━━\u001b[0m\u001b[37m\u001b[0m \u001b[1m0s\u001b[0m 5ms/step - accuracy: 0.5359 - loss: 1.0919 - val_accuracy: 0.3323 - val_loss: 1.6178\n",
      "Epoch 33/600\n",
      "\u001b[1m86/86\u001b[0m \u001b[32m━━━━━━━━━━━━━━━━━━━━\u001b[0m\u001b[37m\u001b[0m \u001b[1m0s\u001b[0m 5ms/step - accuracy: 0.5401 - loss: 1.0863 - val_accuracy: 0.3285 - val_loss: 1.6344\n",
      "Epoch 34/600\n",
      "\u001b[1m86/86\u001b[0m \u001b[32m━━━━━━━━━━━━━━━━━━━━\u001b[0m\u001b[37m\u001b[0m \u001b[1m0s\u001b[0m 5ms/step - accuracy: 0.5502 - loss: 1.0609 - val_accuracy: 0.3334 - val_loss: 1.6526\n",
      "Epoch 35/600\n",
      "\u001b[1m86/86\u001b[0m \u001b[32m━━━━━━━━━━━━━━━━━━━━\u001b[0m\u001b[37m\u001b[0m \u001b[1m0s\u001b[0m 5ms/step - accuracy: 0.5457 - loss: 1.0551 - val_accuracy: 0.3351 - val_loss: 1.6767\n",
      "Epoch 36/600\n",
      "\u001b[1m86/86\u001b[0m \u001b[32m━━━━━━━━━━━━━━━━━━━━\u001b[0m\u001b[37m\u001b[0m \u001b[1m0s\u001b[0m 5ms/step - accuracy: 0.5531 - loss: 1.0288 - val_accuracy: 0.3321 - val_loss: 1.6635\n",
      "Epoch 37/600\n",
      "\u001b[1m86/86\u001b[0m \u001b[32m━━━━━━━━━━━━━━━━━━━━\u001b[0m\u001b[37m\u001b[0m \u001b[1m0s\u001b[0m 5ms/step - accuracy: 0.5778 - loss: 1.0300 - val_accuracy: 0.3323 - val_loss: 1.6765\n",
      "Epoch 38/600\n",
      "\u001b[1m86/86\u001b[0m \u001b[32m━━━━━━━━━━━━━━━━━━━━\u001b[0m\u001b[37m\u001b[0m \u001b[1m0s\u001b[0m 5ms/step - accuracy: 0.5823 - loss: 0.9828 - val_accuracy: 0.3304 - val_loss: 1.7195\n",
      "Epoch 39/600\n",
      "\u001b[1m86/86\u001b[0m \u001b[32m━━━━━━━━━━━━━━━━━━━━\u001b[0m\u001b[37m\u001b[0m \u001b[1m0s\u001b[0m 5ms/step - accuracy: 0.5926 - loss: 0.9691 - val_accuracy: 0.3362 - val_loss: 1.7212\n",
      "Epoch 39: early stopping\n",
      "Restoring model weights from the end of the best epoch: 14.\n"
     ]
    },
    {
     "data": {
      "image/png": "[encoded data removed]",
      "text/plain": [
       "<Figure size 640x480 with 1 Axes>"
      ]
     },
     "metadata": {},
     "output_type": "display_data"
    }
   ],
   "source": [
    "scaler = StandardScaler()\n",
    "X_train_scaled = scaler.fit_transform(X_train)\n",
    "X_test_scaled = scaler.transform(X_test)\n",
    "\n",
    "model = Sequential()\n",
    "\n",
    "# input layer\n",
    "model.add(Dense(128, activation='relu', input_shape = (2073,)))\n",
    "model.add(BatchNormalization())\n",
    "model.add(Dropout(0.3))\n",
    "\n",
    "# first hidden layer\n",
    "model.add(Dense(64, activation='relu'))\n",
    "model.add(BatchNormalization())\n",
    "model.add(Dropout(0.3))\n",
    "\n",
    "# second hidden layer\n",
    "model.add(Dense(32, activation='relu'))\n",
    "model.add(BatchNormalization())\n",
    "model.add(Dropout(0.3))\n",
    "\n",
    "# third hidden layer\n",
    "model.add(Dense(16, activation='relu'))\n",
    "model.add(BatchNormalization())\n",
    "model.add(Dropout(0.3))\n",
    "\n",
    "# fourth hidden layer\n",
    "model.add(Dense(8, activation='relu'))\n",
    "model.add(BatchNormalization())\n",
    "model.add(Dropout(0.3))\n",
    "\n",
    "# output layer \n",
    "model.add(Dense(units=5, activation='softmax'))\n",
    "\n",
    "optimizer = Adam(learning_rate=0.001)\n",
    "\n",
    "model.compile(loss='sparse_categorical_crossentropy', optimizer=optimizer, metrics=['accuracy'])\n",
    "\n",
    "early_stop = EarlyStopping(monitor='val_loss', mode='min', verbose=1, patience=25, restore_best_weights=True)\n",
    "\n",
    "model.fit(x=X_train_scaled, y=y_train, batch_size=128, epochs=600, validation_data=[X_test_scaled,y_test], callbacks=[early_stop])\n",
    "\n",
    "loss_nn = pd.DataFrame(model.history.history)\n",
    "loss_nn[['loss', 'val_loss']].plot()\n",
    "plt.title('Training vs Validation Loss')\n",
    "plt.show()"
   ]
  },
  {
   "cell_type": "markdown",
   "id": "93106184",
   "metadata": {
    "papermill": {
     "duration": 0.02902,
     "end_time": "2025-07-26T17:55:48.836356",
     "exception": false,
     "start_time": "2025-07-26T17:55:48.807336",
     "status": "completed"
    },
    "tags": []
   },
   "source": [
    "## Sumbission"
   ]
  },
  {
   "cell_type": "code",
   "execution_count": 67,
   "id": "db7f8f15",
   "metadata": {
    "execution": {
     "iopub.execute_input": "2025-07-26T17:55:48.896145Z",
     "iopub.status.busy": "2025-07-26T17:55:48.895491Z",
     "iopub.status.idle": "2025-07-26T17:55:48.966826Z",
     "shell.execute_reply": "2025-07-26T17:55:48.966190Z"
    },
    "papermill": {
     "duration": 0.102887,
     "end_time": "2025-07-26T17:55:48.968178",
     "exception": false,
     "start_time": "2025-07-26T17:55:48.865291",
     "status": "completed"
    },
    "tags": []
   },
   "outputs": [],
   "source": [
    "ids = df_test['PetID']\n",
    "X_test_kaggle = df_test.drop(['RescuerID', 'image_path', 'Description', 'StateName', 'BreedName', 'ColorName'\n",
    "                                , 'Name', 'PetID', 'ColorCombo', 'primary_animal', 'Mixed_Breed'],\n",
    "                  axis=1)\n",
    "nan_mask_test = X_test_kaggle.isnull().any(axis=1)\n",
    "X_test_kaggle = X_test_kaggle[~nan_mask_test]\n",
    "ids = ids[~nan_mask_test]"
   ]
  },
  {
   "cell_type": "code",
   "execution_count": 68,
   "id": "50f3dbcc",
   "metadata": {
    "execution": {
     "iopub.execute_input": "2025-07-26T17:55:49.028396Z",
     "iopub.status.busy": "2025-07-26T17:55:49.027807Z",
     "iopub.status.idle": "2025-07-26T17:55:49.253953Z",
     "shell.execute_reply": "2025-07-26T17:55:49.253323Z"
    },
    "papermill": {
     "duration": 0.257339,
     "end_time": "2025-07-26T17:55:49.255239",
     "exception": false,
     "start_time": "2025-07-26T17:55:48.997900",
     "status": "completed"
    },
    "tags": []
   },
   "outputs": [],
   "source": [
    "rf_prediction_kaggle = rf_model.predict(X_test_kaggle)\n",
    "\n",
    "# submission Random Forest\n",
    "submission = pd.DataFrame({'PetID': ids, 'AdoptionSpeed':rf_prediction_kaggle})\n",
    "submission.to_csv('/kaggle/working/submission.csv', index=False)"
   ]
  },
  {
   "cell_type": "markdown",
   "id": "815feb6a",
   "metadata": {
    "execution": {
     "iopub.execute_input": "2025-07-26T16:53:26.231381Z",
     "iopub.status.busy": "2025-07-26T16:53:26.231147Z",
     "iopub.status.idle": "2025-07-26T16:53:26.482849Z",
     "shell.execute_reply": "2025-07-26T16:53:26.482102Z",
     "shell.execute_reply.started": "2025-07-26T16:53:26.231361Z"
    },
    "papermill": {
     "duration": 0.030371,
     "end_time": "2025-07-26T17:55:49.316734",
     "exception": false,
     "start_time": "2025-07-26T17:55:49.286363",
     "status": "completed"
    },
    "tags": []
   },
   "source": [
    "xgb_prediction_kaggle = xgb_model.predict(X_test_kaggle)\n",
    "\n",
    "# submission XGBoost\n",
    "submission_xgb = pd.DataFrame({'PetID': ids, 'AdoptionSpeed':xgb_prediction_kaggle})\n",
    "submission_xgb.to_csv('submission.csv', index = False)"
   ]
  },
  {
   "cell_type": "markdown",
   "id": "ee99b092",
   "metadata": {
    "execution": {
     "iopub.execute_input": "2025-07-26T16:53:26.484137Z",
     "iopub.status.busy": "2025-07-26T16:53:26.483815Z",
     "iopub.status.idle": "2025-07-26T16:53:26.747366Z",
     "shell.execute_reply": "2025-07-26T16:53:26.746341Z",
     "shell.execute_reply.started": "2025-07-26T16:53:26.484108Z"
    },
    "papermill": {
     "duration": 0.029484,
     "end_time": "2025-07-26T17:55:49.377690",
     "exception": false,
     "start_time": "2025-07-26T17:55:49.348206",
     "status": "completed"
    },
    "tags": []
   },
   "source": [
    "scaler_y = StandardScaler()\n",
    "y_train = scaler_y.fit_transform(y_train.reshape(-1, 1))\n",
    "y_test = scaler_y.transform(y_test.reshape(-1, 1))\n",
    "\n",
    "X_test_kaggle_scaled = scaler.transform(X_test_kaggle)\n",
    "nn_prediction_kaggle_scaled = model.predict(X_test_kaggle_scaled)\n",
    "nn_prediction_kaggle = np.argmax(nn_prediction_kaggle_scaled, axis=1)\n",
    "\n",
    "# submission NN\n",
    "submission_nn = pd.DataFrame({'PetID': ids, 'AdoptionSpeed':nn_prediction_kaggle.reshape(-1)})\n",
    "submission_nn.to_csv('submission_nn.csv', index = False)"
   ]
  },
  {
   "cell_type": "code",
   "execution_count": 69,
   "id": "47042c28",
   "metadata": {
    "execution": {
     "iopub.execute_input": "2025-07-26T17:55:49.437113Z",
     "iopub.status.busy": "2025-07-26T17:55:49.436531Z",
     "iopub.status.idle": "2025-07-26T17:55:49.440648Z",
     "shell.execute_reply": "2025-07-26T17:55:49.439985Z"
    },
    "papermill": {
     "duration": 0.035038,
     "end_time": "2025-07-26T17:55:49.441710",
     "exception": false,
     "start_time": "2025-07-26T17:55:49.406672",
     "status": "completed"
    },
    "tags": []
   },
   "outputs": [
    {
     "name": "stdout",
     "output_type": "stream",
     "text": [
      "['submission.csv', '__notebook__.ipynb']\n"
     ]
    }
   ],
   "source": [
    "print(os.listdir(\"/kaggle/working\"))"
   ]
  },
  {
   "cell_type": "code",
   "execution_count": null,
   "id": "081c45d7",
   "metadata": {
    "papermill": {
     "duration": 0.029543,
     "end_time": "2025-07-26T17:55:49.501330",
     "exception": false,
     "start_time": "2025-07-26T17:55:49.471787",
     "status": "completed"
    },
    "tags": []
   },
   "outputs": [],
   "source": []
  }
 ],
 "metadata": {
  "kaggle": {
   "accelerator": "none",
   "dataSources": [
    {
     "databundleVersionId": 861963,
     "sourceId": 10686,
     "sourceType": "competition"
    }
   ],
   "dockerImageVersionId": 31089,
   "isGpuEnabled": false,
   "isInternetEnabled": true,
   "language": "python",
   "sourceType": "notebook"
  },
  "kernelspec": {
   "display_name": "Python 3",
   "language": "python",
   "name": "python3"
  },
  "language_info": {
   "codemirror_mode": {
    "name": "ipython",
    "version": 3
   },
   "file_extension": ".py",
   "mimetype": "text/x-python",
   "name": "python",
   "nbconvert_exporter": "python",
   "pygments_lexer": "ipython3",
   "version": "3.11.13"
  },
  "papermill": {
   "default_parameters": {},
   "duration": 2106.37415,
   "end_time": "2025-07-26T17:55:52.451308",
   "environment_variables": {},
   "exception": null,
   "input_path": "__notebook__.ipynb",
   "output_path": "__notebook__.ipynb",
   "parameters": {},
   "start_time": "2025-07-26T17:20:46.077158",
   "version": "2.6.0"
  },
  "widgets": {
   "application/vnd.jupyter.widget-state+json": {
    "state": {
     "06e04e79d7234dc4bd490b42f8249fc8": {
      "model_module": "@jupyter-widgets/controls",
      "model_module_version": "2.0.0",
      "model_name": "HBoxModel",
      "state": {
       "_dom_classes": [],
       "_model_module": "@jupyter-widgets/controls",
       "_model_module_version": "2.0.0",
       "_model_name": "HBoxModel",
       "_view_count": null,
       "_view_module": "@jupyter-widgets/controls",
       "_view_module_version": "2.0.0",
       "_view_name": "HBoxView",
       "box_style": "",
       "children": [
        "IPY_MODEL_cf97aefe75844e25977a2e021d4fcebc",
        "IPY_MODEL_52dd084f022444b7ac4b0c0a70a90b0f",
        "IPY_MODEL_782dab16c99c415495e62667f2c65914"
       ],
       "layout": "IPY_MODEL_3b6ebca388a142d8b58175bc6bd57bc3",
       "tabbable": null,
       "tooltip": null
      }
     },
     "0b8f2448e9da4829960bbc10ad96b6c7": {
      "model_module": "@jupyter-widgets/base",
      "model_module_version": "2.0.0",
      "model_name": "LayoutModel",
      "state": {
       "_model_module": "@jupyter-widgets/base",
       "_model_module_version": "2.0.0",
       "_model_name": "LayoutModel",
       "_view_count": null,
       "_view_module": "@jupyter-widgets/base",
       "_view_module_version": "2.0.0",
       "_view_name": "LayoutView",
       "align_content": null,
       "align_items": null,
       "align_self": null,
       "border_bottom": null,
       "border_left": null,
       "border_right": null,
       "border_top": null,
       "bottom": null,
       "display": null,
       "flex": null,
       "flex_flow": null,
       "grid_area": null,
       "grid_auto_columns": null,
       "grid_auto_flow": null,
       "grid_auto_rows": null,
       "grid_column": null,
       "grid_gap": null,
       "grid_row": null,
       "grid_template_areas": null,
       "grid_template_columns": null,
       "grid_template_rows": null,
       "height": null,
       "justify_content": null,
       "justify_items": null,
       "left": null,
       "margin": null,
       "max_height": null,
       "max_width": null,
       "min_height": null,
       "min_width": null,
       "object_fit": null,
       "object_position": null,
       "order": null,
       "overflow": null,
       "padding": null,
       "right": null,
       "top": null,
       "visibility": null,
       "width": null
      }
     },
     "139141f782954b848fb47518e0f4fa1f": {
      "model_module": "@jupyter-widgets/controls",
      "model_module_version": "2.0.0",
      "model_name": "ProgressStyleModel",
      "state": {
       "_model_module": "@jupyter-widgets/controls",
       "_model_module_version": "2.0.0",
       "_model_name": "ProgressStyleModel",
       "_view_count": null,
       "_view_module": "@jupyter-widgets/base",
       "_view_module_version": "2.0.0",
       "_view_name": "StyleView",
       "bar_color": null,
       "description_width": ""
      }
     },
     "2e53cb5447f94a90a0fb8394be9d6e9f": {
      "model_module": "@jupyter-widgets/controls",
      "model_module_version": "2.0.0",
      "model_name": "HBoxModel",
      "state": {
       "_dom_classes": [],
       "_model_module": "@jupyter-widgets/controls",
       "_model_module_version": "2.0.0",
       "_model_name": "HBoxModel",
       "_view_count": null,
       "_view_module": "@jupyter-widgets/controls",
       "_view_module_version": "2.0.0",
       "_view_name": "HBoxView",
       "box_style": "",
       "children": [
        "IPY_MODEL_97e193d0381c47e2b6e1ae6ff925c829",
        "IPY_MODEL_3fddd0a37e99472298dece663107ae5a",
        "IPY_MODEL_4ae28c2dba4742b1b63cbf4f27ec1423"
       ],
       "layout": "IPY_MODEL_4eb680f015314240ab70f8b8b3934c12",
       "tabbable": null,
       "tooltip": null
      }
     },
     "3b6ebca388a142d8b58175bc6bd57bc3": {
      "model_module": "@jupyter-widgets/base",
      "model_module_version": "2.0.0",
      "model_name": "LayoutModel",
      "state": {
       "_model_module": "@jupyter-widgets/base",
       "_model_module_version": "2.0.0",
       "_model_name": "LayoutModel",
       "_view_count": null,
       "_view_module": "@jupyter-widgets/base",
       "_view_module_version": "2.0.0",
       "_view_name": "LayoutView",
       "align_content": null,
       "align_items": null,
       "align_self": null,
       "border_bottom": null,
       "border_left": null,
       "border_right": null,
       "border_top": null,
       "bottom": null,
       "display": null,
       "flex": null,
       "flex_flow": null,
       "grid_area": null,
       "grid_auto_columns": null,
       "grid_auto_flow": null,
       "grid_auto_rows": null,
       "grid_column": null,
       "grid_gap": null,
       "grid_row": null,
       "grid_template_areas": null,
       "grid_template_columns": null,
       "grid_template_rows": null,
       "height": null,
       "justify_content": null,
       "justify_items": null,
       "left": null,
       "margin": null,
       "max_height": null,
       "max_width": null,
       "min_height": null,
       "min_width": null,
       "object_fit": null,
       "object_position": null,
       "order": null,
       "overflow": null,
       "padding": null,
       "right": null,
       "top": null,
       "visibility": null,
       "width": null
      }
     },
     "3fddd0a37e99472298dece663107ae5a": {
      "model_module": "@jupyter-widgets/controls",
      "model_module_version": "2.0.0",
      "model_name": "FloatProgressModel",
      "state": {
       "_dom_classes": [],
       "_model_module": "@jupyter-widgets/controls",
       "_model_module_version": "2.0.0",
       "_model_name": "FloatProgressModel",
       "_view_count": null,
       "_view_module": "@jupyter-widgets/controls",
       "_view_module_version": "2.0.0",
       "_view_name": "ProgressView",
       "bar_style": "success",
       "description": "",
       "description_allow_html": false,
       "layout": "IPY_MODEL_a94156d3995f42449c16e7ec712e07c9",
       "max": 14465.0,
       "min": 0.0,
       "orientation": "horizontal",
       "style": "IPY_MODEL_9187dc6c4702422db21c3cfe3b868cac",
       "tabbable": null,
       "tooltip": null,
       "value": 14465.0
      }
     },
     "45afb267254541fb8f6510c54aaa5b23": {
      "model_module": "@jupyter-widgets/base",
      "model_module_version": "2.0.0",
      "model_name": "LayoutModel",
      "state": {
       "_model_module": "@jupyter-widgets/base",
       "_model_module_version": "2.0.0",
       "_model_name": "LayoutModel",
       "_view_count": null,
       "_view_module": "@jupyter-widgets/base",
       "_view_module_version": "2.0.0",
       "_view_name": "LayoutView",
       "align_content": null,
       "align_items": null,
       "align_self": null,
       "border_bottom": null,
       "border_left": null,
       "border_right": null,
       "border_top": null,
       "bottom": null,
       "display": null,
       "flex": null,
       "flex_flow": null,
       "grid_area": null,
       "grid_auto_columns": null,
       "grid_auto_flow": null,
       "grid_auto_rows": null,
       "grid_column": null,
       "grid_gap": null,
       "grid_row": null,
       "grid_template_areas": null,
       "grid_template_columns": null,
       "grid_template_rows": null,
       "height": null,
       "justify_content": null,
       "justify_items": null,
       "left": null,
       "margin": null,
       "max_height": null,
       "max_width": null,
       "min_height": null,
       "min_width": null,
       "object_fit": null,
       "object_position": null,
       "order": null,
       "overflow": null,
       "padding": null,
       "right": null,
       "top": null,
       "visibility": null,
       "width": null
      }
     },
     "4ae28c2dba4742b1b63cbf4f27ec1423": {
      "model_module": "@jupyter-widgets/controls",
      "model_module_version": "2.0.0",
      "model_name": "HTMLModel",
      "state": {
       "_dom_classes": [],
       "_model_module": "@jupyter-widgets/controls",
       "_model_module_version": "2.0.0",
       "_model_name": "HTMLModel",
       "_view_count": null,
       "_view_module": "@jupyter-widgets/controls",
       "_view_module_version": "2.0.0",
       "_view_name": "HTMLView",
       "description": "",
       "description_allow_html": false,
       "layout": "IPY_MODEL_0b8f2448e9da4829960bbc10ad96b6c7",
       "placeholder": "​",
       "style": "IPY_MODEL_89c78f670c7749ea9bd0c25e1d366d8d",
       "tabbable": null,
       "tooltip": null,
       "value": " 14465/14465 [00:31&lt;00:00, 492.86it/s]"
      }
     },
     "4eb680f015314240ab70f8b8b3934c12": {
      "model_module": "@jupyter-widgets/base",
      "model_module_version": "2.0.0",
      "model_name": "LayoutModel",
      "state": {
       "_model_module": "@jupyter-widgets/base",
       "_model_module_version": "2.0.0",
       "_model_name": "LayoutModel",
       "_view_count": null,
       "_view_module": "@jupyter-widgets/base",
       "_view_module_version": "2.0.0",
       "_view_name": "LayoutView",
       "align_content": null,
       "align_items": null,
       "align_self": null,
       "border_bottom": null,
       "border_left": null,
       "border_right": null,
       "border_top": null,
       "bottom": null,
       "display": null,
       "flex": null,
       "flex_flow": null,
       "grid_area": null,
       "grid_auto_columns": null,
       "grid_auto_flow": null,
       "grid_auto_rows": null,
       "grid_column": null,
       "grid_gap": null,
       "grid_row": null,
       "grid_template_areas": null,
       "grid_template_columns": null,
       "grid_template_rows": null,
       "height": null,
       "justify_content": null,
       "justify_items": null,
       "left": null,
       "margin": null,
       "max_height": null,
       "max_width": null,
       "min_height": null,
       "min_width": null,
       "object_fit": null,
       "object_position": null,
       "order": null,
       "overflow": null,
       "padding": null,
       "right": null,
       "top": null,
       "visibility": null,
       "width": null
      }
     },
     "52dd084f022444b7ac4b0c0a70a90b0f": {
      "model_module": "@jupyter-widgets/controls",
      "model_module_version": "2.0.0",
      "model_name": "FloatProgressModel",
      "state": {
       "_dom_classes": [],
       "_model_module": "@jupyter-widgets/controls",
       "_model_module_version": "2.0.0",
       "_model_name": "FloatProgressModel",
       "_view_count": null,
       "_view_module": "@jupyter-widgets/controls",
       "_view_module_version": "2.0.0",
       "_view_name": "ProgressView",
       "bar_style": "success",
       "description": "",
       "description_allow_html": false,
       "layout": "IPY_MODEL_93b0240ed3104eafa14c1ceb37b7c6c8",
       "max": 58311.0,
       "min": 0.0,
       "orientation": "horizontal",
       "style": "IPY_MODEL_139141f782954b848fb47518e0f4fa1f",
       "tabbable": null,
       "tooltip": null,
       "value": 58311.0
      }
     },
     "782dab16c99c415495e62667f2c65914": {
      "model_module": "@jupyter-widgets/controls",
      "model_module_version": "2.0.0",
      "model_name": "HTMLModel",
      "state": {
       "_dom_classes": [],
       "_model_module": "@jupyter-widgets/controls",
       "_model_module_version": "2.0.0",
       "_model_name": "HTMLModel",
       "_view_count": null,
       "_view_module": "@jupyter-widgets/controls",
       "_view_module_version": "2.0.0",
       "_view_name": "HTMLView",
       "description": "",
       "description_allow_html": false,
       "layout": "IPY_MODEL_baa5487f6e474435b8d802c06a527f9d",
       "placeholder": "​",
       "style": "IPY_MODEL_90c5980a37cc4f5383d29c5485defb7f",
       "tabbable": null,
       "tooltip": null,
       "value": " 58311/58311 [02:05&lt;00:00, 463.30it/s]"
      }
     },
     "816db41751bc4a2eabfa1adad7a28e84": {
      "model_module": "@jupyter-widgets/controls",
      "model_module_version": "2.0.0",
      "model_name": "HTMLStyleModel",
      "state": {
       "_model_module": "@jupyter-widgets/controls",
       "_model_module_version": "2.0.0",
       "_model_name": "HTMLStyleModel",
       "_view_count": null,
       "_view_module": "@jupyter-widgets/base",
       "_view_module_version": "2.0.0",
       "_view_name": "StyleView",
       "background": null,
       "description_width": "",
       "font_size": null,
       "text_color": null
      }
     },
     "89c78f670c7749ea9bd0c25e1d366d8d": {
      "model_module": "@jupyter-widgets/controls",
      "model_module_version": "2.0.0",
      "model_name": "HTMLStyleModel",
      "state": {
       "_model_module": "@jupyter-widgets/controls",
       "_model_module_version": "2.0.0",
       "_model_name": "HTMLStyleModel",
       "_view_count": null,
       "_view_module": "@jupyter-widgets/base",
       "_view_module_version": "2.0.0",
       "_view_name": "StyleView",
       "background": null,
       "description_width": "",
       "font_size": null,
       "text_color": null
      }
     },
     "8e27ac740e0e43bca85f7968f3455bcb": {
      "model_module": "@jupyter-widgets/controls",
      "model_module_version": "2.0.0",
      "model_name": "HTMLStyleModel",
      "state": {
       "_model_module": "@jupyter-widgets/controls",
       "_model_module_version": "2.0.0",
       "_model_name": "HTMLStyleModel",
       "_view_count": null,
       "_view_module": "@jupyter-widgets/base",
       "_view_module_version": "2.0.0",
       "_view_name": "StyleView",
       "background": null,
       "description_width": "",
       "font_size": null,
       "text_color": null
      }
     },
     "90c5980a37cc4f5383d29c5485defb7f": {
      "model_module": "@jupyter-widgets/controls",
      "model_module_version": "2.0.0",
      "model_name": "HTMLStyleModel",
      "state": {
       "_model_module": "@jupyter-widgets/controls",
       "_model_module_version": "2.0.0",
       "_model_name": "HTMLStyleModel",
       "_view_count": null,
       "_view_module": "@jupyter-widgets/base",
       "_view_module_version": "2.0.0",
       "_view_name": "StyleView",
       "background": null,
       "description_width": "",
       "font_size": null,
       "text_color": null
      }
     },
     "9187dc6c4702422db21c3cfe3b868cac": {
      "model_module": "@jupyter-widgets/controls",
      "model_module_version": "2.0.0",
      "model_name": "ProgressStyleModel",
      "state": {
       "_model_module": "@jupyter-widgets/controls",
       "_model_module_version": "2.0.0",
       "_model_name": "ProgressStyleModel",
       "_view_count": null,
       "_view_module": "@jupyter-widgets/base",
       "_view_module_version": "2.0.0",
       "_view_name": "StyleView",
       "bar_color": null,
       "description_width": ""
      }
     },
     "93b0240ed3104eafa14c1ceb37b7c6c8": {
      "model_module": "@jupyter-widgets/base",
      "model_module_version": "2.0.0",
      "model_name": "LayoutModel",
      "state": {
       "_model_module": "@jupyter-widgets/base",
       "_model_module_version": "2.0.0",
       "_model_name": "LayoutModel",
       "_view_count": null,
       "_view_module": "@jupyter-widgets/base",
       "_view_module_version": "2.0.0",
       "_view_name": "LayoutView",
       "align_content": null,
       "align_items": null,
       "align_self": null,
       "border_bottom": null,
       "border_left": null,
       "border_right": null,
       "border_top": null,
       "bottom": null,
       "display": null,
       "flex": null,
       "flex_flow": null,
       "grid_area": null,
       "grid_auto_columns": null,
       "grid_auto_flow": null,
       "grid_auto_rows": null,
       "grid_column": null,
       "grid_gap": null,
       "grid_row": null,
       "grid_template_areas": null,
       "grid_template_columns": null,
       "grid_template_rows": null,
       "height": null,
       "justify_content": null,
       "justify_items": null,
       "left": null,
       "margin": null,
       "max_height": null,
       "max_width": null,
       "min_height": null,
       "min_width": null,
       "object_fit": null,
       "object_position": null,
       "order": null,
       "overflow": null,
       "padding": null,
       "right": null,
       "top": null,
       "visibility": null,
       "width": null
      }
     },
     "97e193d0381c47e2b6e1ae6ff925c829": {
      "model_module": "@jupyter-widgets/controls",
      "model_module_version": "2.0.0",
      "model_name": "HTMLModel",
      "state": {
       "_dom_classes": [],
       "_model_module": "@jupyter-widgets/controls",
       "_model_module_version": "2.0.0",
       "_model_name": "HTMLModel",
       "_view_count": null,
       "_view_module": "@jupyter-widgets/controls",
       "_view_module_version": "2.0.0",
       "_view_name": "HTMLView",
       "description": "",
       "description_allow_html": false,
       "layout": "IPY_MODEL_45afb267254541fb8f6510c54aaa5b23",
       "placeholder": "​",
       "style": "IPY_MODEL_816db41751bc4a2eabfa1adad7a28e84",
       "tabbable": null,
       "tooltip": null,
       "value": "Processing JSONs: 100%"
      }
     },
     "a94156d3995f42449c16e7ec712e07c9": {
      "model_module": "@jupyter-widgets/base",
      "model_module_version": "2.0.0",
      "model_name": "LayoutModel",
      "state": {
       "_model_module": "@jupyter-widgets/base",
       "_model_module_version": "2.0.0",
       "_model_name": "LayoutModel",
       "_view_count": null,
       "_view_module": "@jupyter-widgets/base",
       "_view_module_version": "2.0.0",
       "_view_name": "LayoutView",
       "align_content": null,
       "align_items": null,
       "align_self": null,
       "border_bottom": null,
       "border_left": null,
       "border_right": null,
       "border_top": null,
       "bottom": null,
       "display": null,
       "flex": null,
       "flex_flow": null,
       "grid_area": null,
       "grid_auto_columns": null,
       "grid_auto_flow": null,
       "grid_auto_rows": null,
       "grid_column": null,
       "grid_gap": null,
       "grid_row": null,
       "grid_template_areas": null,
       "grid_template_columns": null,
       "grid_template_rows": null,
       "height": null,
       "justify_content": null,
       "justify_items": null,
       "left": null,
       "margin": null,
       "max_height": null,
       "max_width": null,
       "min_height": null,
       "min_width": null,
       "object_fit": null,
       "object_position": null,
       "order": null,
       "overflow": null,
       "padding": null,
       "right": null,
       "top": null,
       "visibility": null,
       "width": null
      }
     },
     "baa5487f6e474435b8d802c06a527f9d": {
      "model_module": "@jupyter-widgets/base",
      "model_module_version": "2.0.0",
      "model_name": "LayoutModel",
      "state": {
       "_model_module": "@jupyter-widgets/base",
       "_model_module_version": "2.0.0",
       "_model_name": "LayoutModel",
       "_view_count": null,
       "_view_module": "@jupyter-widgets/base",
       "_view_module_version": "2.0.0",
       "_view_name": "LayoutView",
       "align_content": null,
       "align_items": null,
       "align_self": null,
       "border_bottom": null,
       "border_left": null,
       "border_right": null,
       "border_top": null,
       "bottom": null,
       "display": null,
       "flex": null,
       "flex_flow": null,
       "grid_area": null,
       "grid_auto_columns": null,
       "grid_auto_flow": null,
       "grid_auto_rows": null,
       "grid_column": null,
       "grid_gap": null,
       "grid_row": null,
       "grid_template_areas": null,
       "grid_template_columns": null,
       "grid_template_rows": null,
       "height": null,
       "justify_content": null,
       "justify_items": null,
       "left": null,
       "margin": null,
       "max_height": null,
       "max_width": null,
       "min_height": null,
       "min_width": null,
       "object_fit": null,
       "object_position": null,
       "order": null,
       "overflow": null,
       "padding": null,
       "right": null,
       "top": null,
       "visibility": null,
       "width": null
      }
     },
     "ccca3a283b3249a19311ef27fc87f38c": {
      "model_module": "@jupyter-widgets/base",
      "model_module_version": "2.0.0",
      "model_name": "LayoutModel",
      "state": {
       "_model_module": "@jupyter-widgets/base",
       "_model_module_version": "2.0.0",
       "_model_name": "LayoutModel",
       "_view_count": null,
       "_view_module": "@jupyter-widgets/base",
       "_view_module_version": "2.0.0",
       "_view_name": "LayoutView",
       "align_content": null,
       "align_items": null,
       "align_self": null,
       "border_bottom": null,
       "border_left": null,
       "border_right": null,
       "border_top": null,
       "bottom": null,
       "display": null,
       "flex": null,
       "flex_flow": null,
       "grid_area": null,
       "grid_auto_columns": null,
       "grid_auto_flow": null,
       "grid_auto_rows": null,
       "grid_column": null,
       "grid_gap": null,
       "grid_row": null,
       "grid_template_areas": null,
       "grid_template_columns": null,
       "grid_template_rows": null,
       "height": null,
       "justify_content": null,
       "justify_items": null,
       "left": null,
       "margin": null,
       "max_height": null,
       "max_width": null,
       "min_height": null,
       "min_width": null,
       "object_fit": null,
       "object_position": null,
       "order": null,
       "overflow": null,
       "padding": null,
       "right": null,
       "top": null,
       "visibility": null,
       "width": null
      }
     },
     "cf97aefe75844e25977a2e021d4fcebc": {
      "model_module": "@jupyter-widgets/controls",
      "model_module_version": "2.0.0",
      "model_name": "HTMLModel",
      "state": {
       "_dom_classes": [],
       "_model_module": "@jupyter-widgets/controls",
       "_model_module_version": "2.0.0",
       "_model_name": "HTMLModel",
       "_view_count": null,
       "_view_module": "@jupyter-widgets/controls",
       "_view_module_version": "2.0.0",
       "_view_name": "HTMLView",
       "description": "",
       "description_allow_html": false,
       "layout": "IPY_MODEL_ccca3a283b3249a19311ef27fc87f38c",
       "placeholder": "​",
       "style": "IPY_MODEL_8e27ac740e0e43bca85f7968f3455bcb",
       "tabbable": null,
       "tooltip": null,
       "value": "Processing JSONs: 100%"
      }
     }
    },
    "version_major": 2,
    "version_minor": 0
   }
  }
 },
 "nbformat": 4,
 "nbformat_minor": 5
}
